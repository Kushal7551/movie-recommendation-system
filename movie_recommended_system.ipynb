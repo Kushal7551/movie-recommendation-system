{
 "cells": [
  {
   "cell_type": "code",
   "execution_count": null,
   "id": "c5fa8e94",
   "metadata": {},
   "outputs": [],
   "source": [
    "# !pip3 install nltk"
   ]
  },
  {
   "cell_type": "code",
   "execution_count": 1,
   "id": "a5f7edc9",
   "metadata": {},
   "outputs": [],
   "source": [
    "from surprise import SVD\n",
    "import numpy as np\n",
    "import surprise\n",
    "import ast\n",
    "from ast import literal_eval\n",
    "import pandas as pd\n",
    "import seaborn as sns\n",
    "from surprise import SVD, Dataset, Reader\n",
    "from sklearn.feature_extraction.text import TfidfVectorizer, CountVectorizer\n",
    "from sklearn.metrics.pairwise import linear_kernel, cosine_similarity\n",
    "from surprise.model_selection import train_test_split, cross_validate\n",
    "from nltk.stem.snowball import SnowballStemmer\n",
    "from nltk.stem.wordnet import WordNetLemmatizer\n",
    "from nltk.corpus import wordnet\n",
    "from surprise.model_selection import cross_validate"
   ]
  },
  {
   "cell_type": "code",
   "execution_count": null,
   "id": "63aa44c0",
   "metadata": {},
   "outputs": [],
   "source": [
    "#Building a Matrix Factorization model"
   ]
  },
  {
   "cell_type": "code",
   "execution_count": 2,
   "id": "9e2d4d6c",
   "metadata": {},
   "outputs": [
    {
     "name": "stderr",
     "output_type": "stream",
     "text": [
      "/var/folders/f7/pwt8mqn53h7cm0yx8tw9dw6m0000gn/T/ipykernel_91357/1187500383.py:1: DtypeWarning: Columns (10) have mixed types. Specify dtype option on import or set low_memory=False.\n",
      "  movie_data=pd.read_csv(\"archive/movies_metadata.csv\")\n"
     ]
    }
   ],
   "source": [
    "movie_data=pd.read_csv(\"archive/movies_metadata.csv\")"
   ]
  },
  {
   "cell_type": "code",
   "execution_count": 3,
   "id": "f617d951",
   "metadata": {},
   "outputs": [],
   "source": [
    "ratings_data=pd.read_csv(\"archive/ratings_small.csv\")"
   ]
  },
  {
   "cell_type": "code",
   "execution_count": 4,
   "id": "854c164b",
   "metadata": {},
   "outputs": [
    {
     "name": "stdout",
     "output_type": "stream",
     "text": [
      "   adult                              belongs_to_collection    budget  \\\n",
      "0  False  {'id': 10194, 'name': 'Toy Story Collection', ...  30000000   \n",
      "1  False                                                NaN  65000000   \n",
      "2  False  {'id': 119050, 'name': 'Grumpy Old Men Collect...         0   \n",
      "3  False                                                NaN  16000000   \n",
      "4  False  {'id': 96871, 'name': 'Father of the Bride Col...         0   \n",
      "\n",
      "                                              genres  \\\n",
      "0  [{'id': 16, 'name': 'Animation'}, {'id': 35, '...   \n",
      "1  [{'id': 12, 'name': 'Adventure'}, {'id': 14, '...   \n",
      "2  [{'id': 10749, 'name': 'Romance'}, {'id': 35, ...   \n",
      "3  [{'id': 35, 'name': 'Comedy'}, {'id': 18, 'nam...   \n",
      "4                     [{'id': 35, 'name': 'Comedy'}]   \n",
      "\n",
      "                               homepage     id    imdb_id original_language  \\\n",
      "0  http://toystory.disney.com/toy-story    862  tt0114709                en   \n",
      "1                                   NaN   8844  tt0113497                en   \n",
      "2                                   NaN  15602  tt0113228                en   \n",
      "3                                   NaN  31357  tt0114885                en   \n",
      "4                                   NaN  11862  tt0113041                en   \n",
      "\n",
      "                original_title  \\\n",
      "0                    Toy Story   \n",
      "1                      Jumanji   \n",
      "2             Grumpier Old Men   \n",
      "3            Waiting to Exhale   \n",
      "4  Father of the Bride Part II   \n",
      "\n",
      "                                            overview  ... release_date  \\\n",
      "0  Led by Woody, Andy's toys live happily in his ...  ...   1995-10-30   \n",
      "1  When siblings Judy and Peter discover an encha...  ...   1995-12-15   \n",
      "2  A family wedding reignites the ancient feud be...  ...   1995-12-22   \n",
      "3  Cheated on, mistreated and stepped on, the wom...  ...   1995-12-22   \n",
      "4  Just when George Banks has recovered from his ...  ...   1995-02-10   \n",
      "\n",
      "       revenue runtime                                   spoken_languages  \\\n",
      "0  373554033.0    81.0           [{'iso_639_1': 'en', 'name': 'English'}]   \n",
      "1  262797249.0   104.0  [{'iso_639_1': 'en', 'name': 'English'}, {'iso...   \n",
      "2          0.0   101.0           [{'iso_639_1': 'en', 'name': 'English'}]   \n",
      "3   81452156.0   127.0           [{'iso_639_1': 'en', 'name': 'English'}]   \n",
      "4   76578911.0   106.0           [{'iso_639_1': 'en', 'name': 'English'}]   \n",
      "\n",
      "     status                                            tagline  \\\n",
      "0  Released                                                NaN   \n",
      "1  Released          Roll the dice and unleash the excitement!   \n",
      "2  Released  Still Yelling. Still Fighting. Still Ready for...   \n",
      "3  Released  Friends are the people who let you be yourself...   \n",
      "4  Released  Just When His World Is Back To Normal... He's ...   \n",
      "\n",
      "                         title  video vote_average vote_count  \n",
      "0                    Toy Story  False          7.7     5415.0  \n",
      "1                      Jumanji  False          6.9     2413.0  \n",
      "2             Grumpier Old Men  False          6.5       92.0  \n",
      "3            Waiting to Exhale  False          6.1       34.0  \n",
      "4  Father of the Bride Part II  False          5.7      173.0  \n",
      "\n",
      "[5 rows x 24 columns]\n"
     ]
    }
   ],
   "source": [
    "print(movie_data.head())"
   ]
  },
  {
   "cell_type": "code",
   "execution_count": 5,
   "id": "556e48c4",
   "metadata": {},
   "outputs": [
    {
     "name": "stdout",
     "output_type": "stream",
     "text": [
      "(45466, 24)\n",
      "Index(['adult', 'belongs_to_collection', 'budget', 'genres', 'homepage', 'id',\n",
      "       'imdb_id', 'original_language', 'original_title', 'overview',\n",
      "       'popularity', 'poster_path', 'production_companies',\n",
      "       'production_countries', 'release_date', 'revenue', 'runtime',\n",
      "       'spoken_languages', 'status', 'tagline', 'title', 'video',\n",
      "       'vote_average', 'vote_count'],\n",
      "      dtype='object')\n",
      "   adult                              belongs_to_collection    budget  \\\n",
      "0  False  {'id': 10194, 'name': 'Toy Story Collection', ...  30000000   \n",
      "\n",
      "                                              genres  \\\n",
      "0  [{'id': 16, 'name': 'Animation'}, {'id': 35, '...   \n",
      "\n",
      "                               homepage   id    imdb_id original_language  \\\n",
      "0  http://toystory.disney.com/toy-story  862  tt0114709                en   \n",
      "\n",
      "  original_title                                           overview  ...  \\\n",
      "0      Toy Story  Led by Woody, Andy's toys live happily in his ...  ...   \n",
      "\n",
      "  release_date      revenue runtime                          spoken_languages  \\\n",
      "0   1995-10-30  373554033.0    81.0  [{'iso_639_1': 'en', 'name': 'English'}]   \n",
      "\n",
      "     status  tagline      title  video vote_average vote_count  \n",
      "0  Released      NaN  Toy Story  False          7.7     5415.0  \n",
      "\n",
      "[1 rows x 24 columns]\n"
     ]
    }
   ],
   "source": [
    "print(movie_data.shape)\n",
    "print(movie_data.columns)\n",
    "print(movie_data.head(1))"
   ]
  },
  {
   "cell_type": "code",
   "execution_count": 6,
   "id": "4b9f6d5d",
   "metadata": {},
   "outputs": [
    {
     "name": "stdout",
     "output_type": "stream",
     "text": [
      "(100004, 4)\n",
      "Index(['userId', 'movieId', 'rating', 'timestamp'], dtype='object')\n"
     ]
    },
    {
     "data": {
      "image/png": "[encoded data removed]",
      "text/plain": [
       "<Figure size 640x480 with 1 Axes>"
      ]
     },
     "metadata": {},
     "output_type": "display_data"
    }
   ],
   "source": [
    "print(ratings_data.shape)\n",
    "print(ratings_data.columns)\n",
    "rankings_count = ratings_data.rating.value_counts().sort_values()\n",
    "sns.barplot(x=rankings_count.index.sort_values(), y=rankings_count, color=\"b\")\n",
    "sns.set_theme(style=\"whitegrid\")"
   ]
  },
  {
   "cell_type": "code",
   "execution_count": 7,
   "id": "c2f4699b",
   "metadata": {},
   "outputs": [
    {
     "name": "stdout",
     "output_type": "stream",
     "text": [
      "(45466, 24)\n"
     ]
    }
   ],
   "source": [
    "print(movie_data.shape)"
   ]
  },
  {
   "cell_type": "code",
   "execution_count": 8,
   "id": "d3a4c0f6",
   "metadata": {},
   "outputs": [
    {
     "name": "stdout",
     "output_type": "stream",
     "text": [
      "adult                        0\n",
      "belongs_to_collection    40972\n",
      "budget                       0\n",
      "genres                       0\n",
      "homepage                 37684\n",
      "id                           0\n",
      "imdb_id                     17\n",
      "original_language           11\n",
      "original_title               0\n",
      "overview                   954\n",
      "popularity                   5\n",
      "poster_path                386\n",
      "production_companies         3\n",
      "production_countries         3\n",
      "release_date                87\n",
      "revenue                      6\n",
      "runtime                    263\n",
      "spoken_languages             6\n",
      "status                      87\n",
      "tagline                  25054\n",
      "title                        6\n",
      "video                        6\n",
      "vote_average                 6\n",
      "vote_count                   6\n",
      "dtype: int64\n"
     ]
    }
   ],
   "source": [
    "print(movie_data.isna().sum())"
   ]
  },
  {
   "cell_type": "code",
   "execution_count": 9,
   "id": "13e539de",
   "metadata": {},
   "outputs": [
    {
     "name": "stdout",
     "output_type": "stream",
     "text": [
      "0        21.946943\n",
      "1        17.015539\n",
      "2          11.7129\n",
      "3         3.859495\n",
      "4         8.387519\n",
      "           ...    \n",
      "45461     0.072051\n",
      "45462     0.178241\n",
      "45463     0.903007\n",
      "45464     0.003503\n",
      "45465     0.163015\n",
      "Name: popularity, Length: 45466, dtype: object\n"
     ]
    }
   ],
   "source": [
    "print(movie_data['popularity'])"
   ]
  },
  {
   "cell_type": "code",
   "execution_count": 10,
   "id": "52f420ff",
   "metadata": {},
   "outputs": [],
   "source": [
    "movie_data['genres'] = movie_data['genres'].fillna('[]').apply(literal_eval).apply(lambda x: [i['name'] for i in x] if isinstance(x, list) else [])"
   ]
  },
  {
   "cell_type": "code",
   "execution_count": 11,
   "id": "e6486221",
   "metadata": {},
   "outputs": [
    {
     "name": "stdout",
     "output_type": "stream",
     "text": [
      "0     [Animation, Comedy, Family]\n",
      "1    [Adventure, Fantasy, Family]\n",
      "2               [Romance, Comedy]\n",
      "3        [Comedy, Drama, Romance]\n",
      "4                        [Comedy]\n",
      "Name: genres, dtype: object\n"
     ]
    }
   ],
   "source": [
    "print(movie_data['genres'].head())"
   ]
  },
  {
   "cell_type": "code",
   "execution_count": 12,
   "id": "fb07b4fc",
   "metadata": {},
   "outputs": [
    {
     "name": "stdout",
     "output_type": "stream",
     "text": [
      "0        7.7\n",
      "1        6.9\n",
      "2        6.5\n",
      "3        6.1\n",
      "4        5.7\n",
      "        ... \n",
      "45461    4.0\n",
      "45462    9.0\n",
      "45463    3.8\n",
      "45464    0.0\n",
      "45465    0.0\n",
      "Name: vote_average, Length: 45466, dtype: float64\n"
     ]
    }
   ],
   "source": [
    "print(movie_data['vote_average'])"
   ]
  },
  {
   "cell_type": "code",
   "execution_count": null,
   "id": "e38f6661",
   "metadata": {},
   "outputs": [],
   "source": [
    "# I will use IMDB's weighted rating formula to construct my chart. \n",
    "# WR = (v.R)/(v+m)+(m.C)/(v+m)\n",
    "# C --> mean of all vote averages\n",
    "# m --> minimum number of votes to add in chart"
   ]
  },
  {
   "cell_type": "code",
   "execution_count": 13,
   "id": "f007e568",
   "metadata": {},
   "outputs": [
    {
     "name": "stdout",
     "output_type": "stream",
     "text": [
      "5.244896612406511\n"
     ]
    }
   ],
   "source": [
    "vote_counts = movie_data[movie_data['vote_count'].notnull()]['vote_count'].astype('int')\n",
    "vote_averages = movie_data[movie_data['vote_average'].notnull()]['vote_average'].astype('int')\n",
    "C = vote_averages.mean()\n",
    "print(C)"
   ]
  },
  {
   "cell_type": "code",
   "execution_count": 14,
   "id": "945c5226",
   "metadata": {},
   "outputs": [],
   "source": [
    "m = vote_counts.quantile(0.95)\n",
    "#This means 95% of the movies has less than m votes."
   ]
  },
  {
   "cell_type": "code",
   "execution_count": 15,
   "id": "40feb9ce",
   "metadata": {},
   "outputs": [
    {
     "name": "stdout",
     "output_type": "stream",
     "text": [
      "The minimum value of votes so that we can add in chart are 434.0\n"
     ]
    }
   ],
   "source": [
    "print(f\"The minimum value of votes so that we can add in chart are {m}\")"
   ]
  },
  {
   "cell_type": "code",
   "execution_count": 16,
   "id": "efbd8a71",
   "metadata": {},
   "outputs": [],
   "source": [
    "#Extracting the year.\n",
    "movie_data['year'] = pd.to_datetime(movie_data['release_date'], errors='coerce').apply(lambda x: str(x).split('-')[0] if x != np.nan else np.nan)"
   ]
  },
  {
   "cell_type": "code",
   "execution_count": 17,
   "id": "51f0a423",
   "metadata": {},
   "outputs": [
    {
     "name": "stdout",
     "output_type": "stream",
     "text": [
      "0    1995\n",
      "1    1995\n",
      "2    1995\n",
      "3    1995\n",
      "4    1995\n",
      "Name: year, dtype: object\n"
     ]
    }
   ],
   "source": [
    "print(movie_data['year'].head())"
   ]
  },
  {
   "cell_type": "code",
   "execution_count": 18,
   "id": "1534552d",
   "metadata": {},
   "outputs": [
    {
     "name": "stdout",
     "output_type": "stream",
     "text": [
      "(2274, 6)\n",
      "        title  year  vote_count  vote_average popularity  \\\n",
      "0   Toy Story  1995        5415             7  21.946943   \n",
      "1     Jumanji  1995        2413             6  17.015539   \n",
      "5        Heat  1995        1886             7  17.924927   \n",
      "9   GoldenEye  1995        1194             6  14.686036   \n",
      "15     Casino  1995        1343             7  10.137389   \n",
      "\n",
      "                              genres  \n",
      "0        [Animation, Comedy, Family]  \n",
      "1       [Adventure, Fantasy, Family]  \n",
      "5   [Action, Crime, Drama, Thriller]  \n",
      "9      [Adventure, Action, Thriller]  \n",
      "15                    [Drama, Crime]  \n"
     ]
    }
   ],
   "source": [
    "movie_data_preprocessed = movie_data[(movie_data['vote_count'] >= m) & (movie_data['vote_count'].notnull()) & (movie_data['vote_average'].notnull())][['title', 'year', 'vote_count', 'vote_average', 'popularity', 'genres']]\n",
    "movie_data_preprocessed['vote_count'] = movie_data_preprocessed['vote_count'].astype('int')\n",
    "movie_data_preprocessed['vote_average'] = movie_data_preprocessed['vote_average'].astype('int')\n",
    "print(movie_data_preprocessed.shape)\n",
    "print(movie_data_preprocessed.head())"
   ]
  },
  {
   "cell_type": "code",
   "execution_count": 19,
   "id": "8522b490",
   "metadata": {},
   "outputs": [],
   "source": [
    "def weighted_rating(x):\n",
    "    v = x['vote_count']\n",
    "    R = x['vote_average']\n",
    "    return (v/(v+m) * R) + (m/(m+v) * C)"
   ]
  },
  {
   "cell_type": "code",
   "execution_count": 21,
   "id": "b66a67c0",
   "metadata": {},
   "outputs": [],
   "source": [
    "movie_data_preprocessed['wr'] = movie_data_preprocessed.apply(weighted_rating, axis=1)"
   ]
  },
  {
   "cell_type": "code",
   "execution_count": 22,
   "id": "63515736",
   "metadata": {},
   "outputs": [],
   "source": [
    "movie_data_preprocessed_top_movies = movie_data_preprocessed.sort_values('wr', ascending=False).head(250)"
   ]
  },
  {
   "cell_type": "code",
   "execution_count": 23,
   "id": "e619cd56",
   "metadata": {},
   "outputs": [
    {
     "name": "stdout",
     "output_type": "stream",
     "text": [
      "These are the top movies according to the weighted rating\n",
      "                                                   title  year  vote_count  \\\n",
      "15480                                          Inception  2010       14075   \n",
      "12481                                    The Dark Knight  2008       12269   \n",
      "22879                                       Interstellar  2014       11187   \n",
      "2843                                          Fight Club  1999        9678   \n",
      "4863   The Lord of the Rings: The Fellowship of the Ring  2001        8892   \n",
      "...                                                  ...   ...         ...   \n",
      "2006                Indiana Jones and the Temple of Doom  1984        2841   \n",
      "16129                                  The King's Speech  2010        2817   \n",
      "895                                     Sunset Boulevard  1950         533   \n",
      "9888                                            Sin City  2005        2755   \n",
      "16833                                        Source Code  2011        2752   \n",
      "\n",
      "       vote_average  popularity  \\\n",
      "15480             8   29.108149   \n",
      "12481             8  123.167259   \n",
      "22879             8   32.213481   \n",
      "2843              8   63.869599   \n",
      "4863              8   32.070725   \n",
      "...             ...         ...   \n",
      "2006              7   15.802306   \n",
      "16129             7   11.260387   \n",
      "895               8   11.709777   \n",
      "9888              7   15.010525   \n",
      "16833             7    9.796962   \n",
      "\n",
      "                                                  genres        wr  \n",
      "15480  [Action, Thriller, Science Fiction, Mystery, A...  7.917588  \n",
      "12481                   [Drama, Action, Crime, Thriller]  7.905871  \n",
      "22879                [Adventure, Drama, Science Fiction]  7.897107  \n",
      "2843                                             [Drama]  7.881753  \n",
      "4863                        [Adventure, Fantasy, Action]  7.871787  \n",
      "...                                                  ...       ...  \n",
      "2006                                 [Adventure, Action]  6.767415  \n",
      "16129                                   [Drama, History]  6.765698  \n",
      "895                                              [Drama]  6.763480  \n",
      "9888                           [Action, Thriller, Crime]  6.761143  \n",
      "16833               [Thriller, Science Fiction, Mystery]  6.760918  \n",
      "\n",
      "[250 rows x 7 columns]\n"
     ]
    }
   ],
   "source": [
    "print(\"These are the top movies according to the weighted rating\")\n",
    "print(movie_data_preprocessed_top_movies)"
   ]
  },
  {
   "cell_type": "code",
   "execution_count": 24,
   "id": "28e33dd4",
   "metadata": {},
   "outputs": [
    {
     "name": "stdout",
     "output_type": "stream",
     "text": [
      "0              Animation\n",
      "0                 Comedy\n",
      "0                 Family\n",
      "1              Adventure\n",
      "1                Fantasy\n",
      "              ...       \n",
      "45014             Action\n",
      "45014            Western\n",
      "45014    Science Fiction\n",
      "45014            Fantasy\n",
      "45014             Horror\n",
      "Name: genre, Length: 6261, dtype: object\n"
     ]
    }
   ],
   "source": [
    "s = movie_data_preprocessed.apply(lambda x: pd.Series(x['genres']),axis=1).stack().reset_index(level=1, drop=True)\n",
    "s.name = 'genre'\n",
    "print(s)"
   ]
  },
  {
   "cell_type": "code",
   "execution_count": 25,
   "id": "a19322f4",
   "metadata": {},
   "outputs": [
    {
     "name": "stdout",
     "output_type": "stream",
     "text": [
      "       adult                              belongs_to_collection    budget  \\\n",
      "0      False  {'id': 10194, 'name': 'Toy Story Collection', ...  30000000   \n",
      "0      False  {'id': 10194, 'name': 'Toy Story Collection', ...  30000000   \n",
      "0      False  {'id': 10194, 'name': 'Toy Story Collection', ...  30000000   \n",
      "1      False                                                NaN  65000000   \n",
      "1      False                                                NaN  65000000   \n",
      "...      ...                                                ...       ...   \n",
      "45461  False                                                NaN         0   \n",
      "45462  False                                                NaN         0   \n",
      "45463  False                                                NaN         0   \n",
      "45464  False                                                NaN         0   \n",
      "45465  False                                                NaN         0   \n",
      "\n",
      "                                   homepage      id    imdb_id  \\\n",
      "0      http://toystory.disney.com/toy-story     862  tt0114709   \n",
      "0      http://toystory.disney.com/toy-story     862  tt0114709   \n",
      "0      http://toystory.disney.com/toy-story     862  tt0114709   \n",
      "1                                       NaN    8844  tt0113497   \n",
      "1                                       NaN    8844  tt0113497   \n",
      "...                                     ...     ...        ...   \n",
      "45461  http://www.imdb.com/title/tt6209470/  439050  tt6209470   \n",
      "45462                                   NaN  111109  tt2028550   \n",
      "45463                                   NaN   67758  tt0303758   \n",
      "45464                                   NaN  227506  tt0008536   \n",
      "45465                                   NaN  461257  tt6980792   \n",
      "\n",
      "      original_language       original_title  \\\n",
      "0                    en            Toy Story   \n",
      "0                    en            Toy Story   \n",
      "0                    en            Toy Story   \n",
      "1                    en              Jumanji   \n",
      "1                    en              Jumanji   \n",
      "...                 ...                  ...   \n",
      "45461                fa              رگ خواب   \n",
      "45462                tl  Siglo ng Pagluluwal   \n",
      "45463                en             Betrayal   \n",
      "45464                en  Satana likuyushchiy   \n",
      "45465                en             Queerama   \n",
      "\n",
      "                                                overview popularity  ...  \\\n",
      "0      Led by Woody, Andy's toys live happily in his ...  21.946943  ...   \n",
      "0      Led by Woody, Andy's toys live happily in his ...  21.946943  ...   \n",
      "0      Led by Woody, Andy's toys live happily in his ...  21.946943  ...   \n",
      "1      When siblings Judy and Peter discover an encha...  17.015539  ...   \n",
      "1      When siblings Judy and Peter discover an encha...  17.015539  ...   \n",
      "...                                                  ...        ...  ...   \n",
      "45461        Rising and falling between a man and woman.   0.072051  ...   \n",
      "45462  An artist struggles to finish his work while a...   0.178241  ...   \n",
      "45463  When one of her hits goes wrong, a professiona...   0.903007  ...   \n",
      "45464  In a small town live two brothers, one a minis...   0.003503  ...   \n",
      "45465  50 years after decriminalisation of homosexual...   0.163015  ...   \n",
      "\n",
      "      runtime                                   spoken_languages    status  \\\n",
      "0        81.0           [{'iso_639_1': 'en', 'name': 'English'}]  Released   \n",
      "0        81.0           [{'iso_639_1': 'en', 'name': 'English'}]  Released   \n",
      "0        81.0           [{'iso_639_1': 'en', 'name': 'English'}]  Released   \n",
      "1       104.0  [{'iso_639_1': 'en', 'name': 'English'}, {'iso...  Released   \n",
      "1       104.0  [{'iso_639_1': 'en', 'name': 'English'}, {'iso...  Released   \n",
      "...       ...                                                ...       ...   \n",
      "45461    90.0             [{'iso_639_1': 'fa', 'name': 'فارسی'}]  Released   \n",
      "45462   360.0                  [{'iso_639_1': 'tl', 'name': ''}]  Released   \n",
      "45463    90.0           [{'iso_639_1': 'en', 'name': 'English'}]  Released   \n",
      "45464    87.0                                                 []  Released   \n",
      "45465    75.0           [{'iso_639_1': 'en', 'name': 'English'}]  Released   \n",
      "\n",
      "                                          tagline                title  video  \\\n",
      "0                                             NaN            Toy Story  False   \n",
      "0                                             NaN            Toy Story  False   \n",
      "0                                             NaN            Toy Story  False   \n",
      "1       Roll the dice and unleash the excitement!              Jumanji  False   \n",
      "1       Roll the dice and unleash the excitement!              Jumanji  False   \n",
      "...                                           ...                  ...    ...   \n",
      "45461  Rising and falling between a man and woman               Subdue  False   \n",
      "45462                                         NaN  Century of Birthing  False   \n",
      "45463                      A deadly game of wits.             Betrayal  False   \n",
      "45464                                         NaN     Satan Triumphant  False   \n",
      "45465                                         NaN             Queerama  False   \n",
      "\n",
      "      vote_average vote_count  year      genre  \n",
      "0              7.7     5415.0  1995  Animation  \n",
      "0              7.7     5415.0  1995     Comedy  \n",
      "0              7.7     5415.0  1995     Family  \n",
      "1              6.9     2413.0  1995  Adventure  \n",
      "1              6.9     2413.0  1995    Fantasy  \n",
      "...            ...        ...   ...        ...  \n",
      "45461          4.0        1.0   NaT        NaN  \n",
      "45462          9.0        3.0  2011        NaN  \n",
      "45463          3.8        6.0  2003        NaN  \n",
      "45464          0.0        0.0  1917        NaN  \n",
      "45465          0.0        0.0  2017        NaN  \n",
      "\n",
      "[49453 rows x 25 columns]\n"
     ]
    }
   ],
   "source": [
    "gen_movie_data = movie_data.drop('genres', axis=1).join(s)\n",
    "print(gen_movie_data)"
   ]
  },
  {
   "cell_type": "code",
   "execution_count": 26,
   "id": "d419435c",
   "metadata": {},
   "outputs": [],
   "source": [
    "def build_chart(genre, percentile=0.85):\n",
    "    df = gen_movie_data[gen_movie_data['genre'] == genre]\n",
    "    vote_counts = df[df['vote_count'].notnull()]['vote_count'].astype('int')\n",
    "    vote_averages = df[df['vote_average'].notnull()]['vote_average'].astype('int')\n",
    "    C = vote_averages.mean()\n",
    "    m = vote_counts.quantile(percentile)\n",
    "    \n",
    "    movie_data_top_genre = df[(df['vote_count'] >= m) & (df['vote_count'].notnull()) & (df['vote_average'].notnull())][['title', 'year', 'vote_count', 'vote_average', 'popularity']]\n",
    "    movie_data_top_genre['vote_count'] = movie_data_top_genre['vote_count'].astype('int')\n",
    "    movie_data_top_genre['vote_average'] = movie_data_top_genre['vote_average'].astype('int')\n",
    "    \n",
    "    movie_data_top_genre['wr'] = movie_data_top_genre.apply(lambda x: (x['vote_count']/(x['vote_count']+m) * x['vote_average']) + (m/(m+x['vote_count']) * C), axis=1)\n",
    "    movie_data_top_genre = movie_data_top_genre.sort_values('wr', ascending=False).head(250)\n",
    "    \n",
    "    return movie_data_top_genre"
   ]
  },
  {
   "cell_type": "code",
   "execution_count": 27,
   "id": "07c994f0",
   "metadata": {},
   "outputs": [
    {
     "name": "stdout",
     "output_type": "stream",
     "text": [
      "These are the top Romance movies:\n"
     ]
    },
    {
     "data": {
      "text/html": [
       "<div>\n",
       "<style scoped>\n",
       "    .dataframe tbody tr th:only-of-type {\n",
       "        vertical-align: middle;\n",
       "    }\n",
       "\n",
       "    .dataframe tbody tr th {\n",
       "        vertical-align: top;\n",
       "    }\n",
       "\n",
       "    .dataframe thead th {\n",
       "        text-align: right;\n",
       "    }\n",
       "</style>\n",
       "<table border=\"1\" class=\"dataframe\">\n",
       "  <thead>\n",
       "    <tr style=\"text-align: right;\">\n",
       "      <th></th>\n",
       "      <th>title</th>\n",
       "      <th>year</th>\n",
       "      <th>vote_count</th>\n",
       "      <th>vote_average</th>\n",
       "      <th>popularity</th>\n",
       "      <th>wr</th>\n",
       "    </tr>\n",
       "  </thead>\n",
       "  <tbody>\n",
       "    <tr>\n",
       "      <th>351</th>\n",
       "      <td>Forrest Gump</td>\n",
       "      <td>1994</td>\n",
       "      <td>8147</td>\n",
       "      <td>8</td>\n",
       "      <td>48.307194</td>\n",
       "      <td>7.666317</td>\n",
       "    </tr>\n",
       "    <tr>\n",
       "      <th>1639</th>\n",
       "      <td>Titanic</td>\n",
       "      <td>1997</td>\n",
       "      <td>7770</td>\n",
       "      <td>7</td>\n",
       "      <td>26.88907</td>\n",
       "      <td>6.851258</td>\n",
       "    </tr>\n",
       "    <tr>\n",
       "      <th>19731</th>\n",
       "      <td>Silver Linings Playbook</td>\n",
       "      <td>2012</td>\n",
       "      <td>4840</td>\n",
       "      <td>7</td>\n",
       "      <td>14.488111</td>\n",
       "      <td>6.786764</td>\n",
       "    </tr>\n",
       "    <tr>\n",
       "      <th>40882</th>\n",
       "      <td>La La Land</td>\n",
       "      <td>2016</td>\n",
       "      <td>4745</td>\n",
       "      <td>7</td>\n",
       "      <td>19.681686</td>\n",
       "      <td>6.783724</td>\n",
       "    </tr>\n",
       "    <tr>\n",
       "      <th>23437</th>\n",
       "      <td>Maleficent</td>\n",
       "      <td>2014</td>\n",
       "      <td>4607</td>\n",
       "      <td>7</td>\n",
       "      <td>19.467404</td>\n",
       "      <td>6.779149</td>\n",
       "    </tr>\n",
       "    <tr>\n",
       "      <th>22168</th>\n",
       "      <td>Her</td>\n",
       "      <td>2013</td>\n",
       "      <td>4215</td>\n",
       "      <td>7</td>\n",
       "      <td>13.829515</td>\n",
       "      <td>6.765032</td>\n",
       "    </tr>\n",
       "    <tr>\n",
       "      <th>20910</th>\n",
       "      <td>The Great Gatsby</td>\n",
       "      <td>2013</td>\n",
       "      <td>3885</td>\n",
       "      <td>7</td>\n",
       "      <td>17.598936</td>\n",
       "      <td>6.751668</td>\n",
       "    </tr>\n",
       "    <tr>\n",
       "      <th>23512</th>\n",
       "      <td>The Fault in Our Stars</td>\n",
       "      <td>2014</td>\n",
       "      <td>3868</td>\n",
       "      <td>7</td>\n",
       "      <td>16.274653</td>\n",
       "      <td>6.750939</td>\n",
       "    </tr>\n",
       "    <tr>\n",
       "      <th>7208</th>\n",
       "      <td>Eternal Sunshine of the Spotless Mind</td>\n",
       "      <td>2004</td>\n",
       "      <td>3758</td>\n",
       "      <td>7</td>\n",
       "      <td>12.906327</td>\n",
       "      <td>6.746111</td>\n",
       "    </tr>\n",
       "    <tr>\n",
       "      <th>2178</th>\n",
       "      <td>Edward Scissorhands</td>\n",
       "      <td>1990</td>\n",
       "      <td>3731</td>\n",
       "      <td>7</td>\n",
       "      <td>17.612244</td>\n",
       "      <td>6.744898</td>\n",
       "    </tr>\n",
       "    <tr>\n",
       "      <th>581</th>\n",
       "      <td>Aladdin</td>\n",
       "      <td>1992</td>\n",
       "      <td>3495</td>\n",
       "      <td>7</td>\n",
       "      <td>16.357419</td>\n",
       "      <td>6.733774</td>\n",
       "    </tr>\n",
       "    <tr>\n",
       "      <th>4843</th>\n",
       "      <td>Amélie</td>\n",
       "      <td>2001</td>\n",
       "      <td>3403</td>\n",
       "      <td>7</td>\n",
       "      <td>12.879381</td>\n",
       "      <td>6.729171</td>\n",
       "    </tr>\n",
       "    <tr>\n",
       "      <th>24982</th>\n",
       "      <td>The Theory of Everything</td>\n",
       "      <td>2014</td>\n",
       "      <td>3403</td>\n",
       "      <td>7</td>\n",
       "      <td>11.85302</td>\n",
       "      <td>6.729171</td>\n",
       "    </tr>\n",
       "    <tr>\n",
       "      <th>13219</th>\n",
       "      <td>The Curious Case of Benjamin Button</td>\n",
       "      <td>2008</td>\n",
       "      <td>3398</td>\n",
       "      <td>7</td>\n",
       "      <td>17.934821</td>\n",
       "      <td>6.728916</td>\n",
       "    </tr>\n",
       "    <tr>\n",
       "      <th>11007</th>\n",
       "      <td>The Devil Wears Prada</td>\n",
       "      <td>2006</td>\n",
       "      <td>3198</td>\n",
       "      <td>7</td>\n",
       "      <td>13.102384</td>\n",
       "      <td>6.718317</td>\n",
       "    </tr>\n",
       "  </tbody>\n",
       "</table>\n",
       "</div>"
      ],
      "text/plain": [
       "                                       title  year  vote_count  vote_average  \\\n",
       "351                             Forrest Gump  1994        8147             8   \n",
       "1639                                 Titanic  1997        7770             7   \n",
       "19731                Silver Linings Playbook  2012        4840             7   \n",
       "40882                             La La Land  2016        4745             7   \n",
       "23437                             Maleficent  2014        4607             7   \n",
       "22168                                    Her  2013        4215             7   \n",
       "20910                       The Great Gatsby  2013        3885             7   \n",
       "23512                 The Fault in Our Stars  2014        3868             7   \n",
       "7208   Eternal Sunshine of the Spotless Mind  2004        3758             7   \n",
       "2178                     Edward Scissorhands  1990        3731             7   \n",
       "581                                  Aladdin  1992        3495             7   \n",
       "4843                                  Amélie  2001        3403             7   \n",
       "24982               The Theory of Everything  2014        3403             7   \n",
       "13219    The Curious Case of Benjamin Button  2008        3398             7   \n",
       "11007                  The Devil Wears Prada  2006        3198             7   \n",
       "\n",
       "      popularity        wr  \n",
       "351    48.307194  7.666317  \n",
       "1639    26.88907  6.851258  \n",
       "19731  14.488111  6.786764  \n",
       "40882  19.681686  6.783724  \n",
       "23437  19.467404  6.779149  \n",
       "22168  13.829515  6.765032  \n",
       "20910  17.598936  6.751668  \n",
       "23512  16.274653  6.750939  \n",
       "7208   12.906327  6.746111  \n",
       "2178   17.612244  6.744898  \n",
       "581    16.357419  6.733774  \n",
       "4843   12.879381  6.729171  \n",
       "24982   11.85302  6.729171  \n",
       "13219  17.934821  6.728916  \n",
       "11007  13.102384  6.718317  "
      ]
     },
     "execution_count": 27,
     "metadata": {},
     "output_type": "execute_result"
    }
   ],
   "source": [
    "print(\"These are the top Romance movies:\")\n",
    "build_chart('Romance').head(15)"
   ]
  },
  {
   "cell_type": "code",
   "execution_count": 28,
   "id": "7fcfd319",
   "metadata": {},
   "outputs": [
    {
     "name": "stdout",
     "output_type": "stream",
     "text": [
      "These are the top horror movie:\n"
     ]
    },
    {
     "data": {
      "text/html": [
       "<div>\n",
       "<style scoped>\n",
       "    .dataframe tbody tr th:only-of-type {\n",
       "        vertical-align: middle;\n",
       "    }\n",
       "\n",
       "    .dataframe tbody tr th {\n",
       "        vertical-align: top;\n",
       "    }\n",
       "\n",
       "    .dataframe thead th {\n",
       "        text-align: right;\n",
       "    }\n",
       "</style>\n",
       "<table border=\"1\" class=\"dataframe\">\n",
       "  <thead>\n",
       "    <tr style=\"text-align: right;\">\n",
       "      <th></th>\n",
       "      <th>title</th>\n",
       "      <th>year</th>\n",
       "      <th>vote_count</th>\n",
       "      <th>vote_average</th>\n",
       "      <th>popularity</th>\n",
       "      <th>wr</th>\n",
       "    </tr>\n",
       "  </thead>\n",
       "  <tbody>\n",
       "    <tr>\n",
       "      <th>1213</th>\n",
       "      <td>The Shining</td>\n",
       "      <td>1980</td>\n",
       "      <td>3890</td>\n",
       "      <td>8</td>\n",
       "      <td>19.611589</td>\n",
       "      <td>7.348072</td>\n",
       "    </tr>\n",
       "    <tr>\n",
       "      <th>1176</th>\n",
       "      <td>Psycho</td>\n",
       "      <td>1960</td>\n",
       "      <td>2405</td>\n",
       "      <td>8</td>\n",
       "      <td>36.826309</td>\n",
       "      <td>7.110615</td>\n",
       "    </tr>\n",
       "    <tr>\n",
       "      <th>1171</th>\n",
       "      <td>Alien</td>\n",
       "      <td>1979</td>\n",
       "      <td>4564</td>\n",
       "      <td>7</td>\n",
       "      <td>23.37742</td>\n",
       "      <td>6.686654</td>\n",
       "    </tr>\n",
       "    <tr>\n",
       "      <th>41492</th>\n",
       "      <td>Split</td>\n",
       "      <td>2016</td>\n",
       "      <td>4461</td>\n",
       "      <td>7</td>\n",
       "      <td>28.920839</td>\n",
       "      <td>6.681392</td>\n",
       "    </tr>\n",
       "    <tr>\n",
       "      <th>14236</th>\n",
       "      <td>Zombieland</td>\n",
       "      <td>2009</td>\n",
       "      <td>3655</td>\n",
       "      <td>7</td>\n",
       "      <td>11.063029</td>\n",
       "      <td>6.633185</td>\n",
       "    </tr>\n",
       "    <tr>\n",
       "      <th>1158</th>\n",
       "      <td>Aliens</td>\n",
       "      <td>1986</td>\n",
       "      <td>3282</td>\n",
       "      <td>7</td>\n",
       "      <td>21.761179</td>\n",
       "      <td>6.605566</td>\n",
       "    </tr>\n",
       "    <tr>\n",
       "      <th>21276</th>\n",
       "      <td>The Conjuring</td>\n",
       "      <td>2013</td>\n",
       "      <td>3169</td>\n",
       "      <td>7</td>\n",
       "      <td>14.90169</td>\n",
       "      <td>6.596359</td>\n",
       "    </tr>\n",
       "    <tr>\n",
       "      <th>42169</th>\n",
       "      <td>Get Out</td>\n",
       "      <td>2017</td>\n",
       "      <td>2978</td>\n",
       "      <td>7</td>\n",
       "      <td>36.894806</td>\n",
       "      <td>6.579780</td>\n",
       "    </tr>\n",
       "    <tr>\n",
       "      <th>1338</th>\n",
       "      <td>Jaws</td>\n",
       "      <td>1975</td>\n",
       "      <td>2628</td>\n",
       "      <td>7</td>\n",
       "      <td>19.726114</td>\n",
       "      <td>6.545576</td>\n",
       "    </tr>\n",
       "    <tr>\n",
       "      <th>8147</th>\n",
       "      <td>Shaun of the Dead</td>\n",
       "      <td>2004</td>\n",
       "      <td>2479</td>\n",
       "      <td>7</td>\n",
       "      <td>14.902948</td>\n",
       "      <td>6.529264</td>\n",
       "    </tr>\n",
       "    <tr>\n",
       "      <th>8230</th>\n",
       "      <td>Saw</td>\n",
       "      <td>2004</td>\n",
       "      <td>2255</td>\n",
       "      <td>7</td>\n",
       "      <td>23.508433</td>\n",
       "      <td>6.502413</td>\n",
       "    </tr>\n",
       "    <tr>\n",
       "      <th>1888</th>\n",
       "      <td>The Exorcist</td>\n",
       "      <td>1973</td>\n",
       "      <td>2046</td>\n",
       "      <td>7</td>\n",
       "      <td>12.137595</td>\n",
       "      <td>6.474442</td>\n",
       "    </tr>\n",
       "    <tr>\n",
       "      <th>39097</th>\n",
       "      <td>The Conjuring 2</td>\n",
       "      <td>2016</td>\n",
       "      <td>2018</td>\n",
       "      <td>7</td>\n",
       "      <td>14.767317</td>\n",
       "      <td>6.470454</td>\n",
       "    </tr>\n",
       "    <tr>\n",
       "      <th>6353</th>\n",
       "      <td>28 Days Later</td>\n",
       "      <td>2002</td>\n",
       "      <td>1816</td>\n",
       "      <td>7</td>\n",
       "      <td>17.656951</td>\n",
       "      <td>6.439787</td>\n",
       "    </tr>\n",
       "    <tr>\n",
       "      <th>12277</th>\n",
       "      <td>Sweeney Todd: The Demon Barber of Fleet Street</td>\n",
       "      <td>2007</td>\n",
       "      <td>1745</td>\n",
       "      <td>7</td>\n",
       "      <td>10.038401</td>\n",
       "      <td>6.428146</td>\n",
       "    </tr>\n",
       "  </tbody>\n",
       "</table>\n",
       "</div>"
      ],
      "text/plain": [
       "                                                title  year  vote_count  \\\n",
       "1213                                      The Shining  1980        3890   \n",
       "1176                                           Psycho  1960        2405   \n",
       "1171                                            Alien  1979        4564   \n",
       "41492                                           Split  2016        4461   \n",
       "14236                                      Zombieland  2009        3655   \n",
       "1158                                           Aliens  1986        3282   \n",
       "21276                                   The Conjuring  2013        3169   \n",
       "42169                                         Get Out  2017        2978   \n",
       "1338                                             Jaws  1975        2628   \n",
       "8147                                Shaun of the Dead  2004        2479   \n",
       "8230                                              Saw  2004        2255   \n",
       "1888                                     The Exorcist  1973        2046   \n",
       "39097                                 The Conjuring 2  2016        2018   \n",
       "6353                                    28 Days Later  2002        1816   \n",
       "12277  Sweeney Todd: The Demon Barber of Fleet Street  2007        1745   \n",
       "\n",
       "       vote_average popularity        wr  \n",
       "1213              8  19.611589  7.348072  \n",
       "1176              8  36.826309  7.110615  \n",
       "1171              7   23.37742  6.686654  \n",
       "41492             7  28.920839  6.681392  \n",
       "14236             7  11.063029  6.633185  \n",
       "1158              7  21.761179  6.605566  \n",
       "21276             7   14.90169  6.596359  \n",
       "42169             7  36.894806  6.579780  \n",
       "1338              7  19.726114  6.545576  \n",
       "8147              7  14.902948  6.529264  \n",
       "8230              7  23.508433  6.502413  \n",
       "1888              7  12.137595  6.474442  \n",
       "39097             7  14.767317  6.470454  \n",
       "6353              7  17.656951  6.439787  \n",
       "12277             7  10.038401  6.428146  "
      ]
     },
     "execution_count": 28,
     "metadata": {},
     "output_type": "execute_result"
    }
   ],
   "source": [
    "print(\"These are the top horror movie:\")\n",
    "build_chart('Horror').head(15)"
   ]
  },
  {
   "cell_type": "code",
   "execution_count": 29,
   "id": "1f6932de",
   "metadata": {},
   "outputs": [],
   "source": [
    "links_small = pd.read_csv('archive/links_small.csv')"
   ]
  },
  {
   "cell_type": "code",
   "execution_count": 30,
   "id": "2035e17a",
   "metadata": {},
   "outputs": [
    {
     "name": "stdout",
     "output_type": "stream",
     "text": [
      "   movieId  imdbId   tmdbId\n",
      "0        1  114709    862.0\n",
      "1        2  113497   8844.0\n",
      "2        3  113228  15602.0\n",
      "3        4  114885  31357.0\n",
      "4        5  113041  11862.0\n",
      "5        6  113277    949.0\n",
      "6        7  114319  11860.0\n",
      "7        8  112302  45325.0\n",
      "8        9  114576   9091.0\n",
      "9       10  113189    710.0\n",
      "(9125, 3)\n"
     ]
    }
   ],
   "source": [
    "print(links_small.head(10))\n",
    "print(links_small.shape)"
   ]
  },
  {
   "cell_type": "code",
   "execution_count": 31,
   "id": "aa681b0e",
   "metadata": {},
   "outputs": [],
   "source": [
    "links_small = links_small[links_small['tmdbId'].notnull()]['tmdbId'].astype('int')"
   ]
  },
  {
   "cell_type": "code",
   "execution_count": 32,
   "id": "0b47baef",
   "metadata": {},
   "outputs": [
    {
     "name": "stdout",
     "output_type": "stream",
     "text": [
      "(9112,)\n",
      "0          862\n",
      "1         8844\n",
      "2        15602\n",
      "3        31357\n",
      "4        11862\n",
      "         ...  \n",
      "9120    402672\n",
      "9121    315011\n",
      "9122    391698\n",
      "9123    137608\n",
      "9124    410803\n",
      "Name: tmdbId, Length: 9112, dtype: int64\n"
     ]
    }
   ],
   "source": [
    "print(links_small.shape)\n",
    "print(links_small)"
   ]
  },
  {
   "cell_type": "code",
   "execution_count": 33,
   "id": "affa2344",
   "metadata": {},
   "outputs": [],
   "source": [
    "movie_data = movie_data.drop([19730, 29503, 35587])######################We should check it..."
   ]
  },
  {
   "cell_type": "code",
   "execution_count": 34,
   "id": "86faa006",
   "metadata": {},
   "outputs": [
    {
     "name": "stdout",
     "output_type": "stream",
     "text": [
      "0      862\n",
      "1     8844\n",
      "2    15602\n",
      "3    31357\n",
      "4    11862\n",
      "Name: id, dtype: int64\n",
      "(45463, 25)\n"
     ]
    }
   ],
   "source": [
    "movie_data['id'] = movie_data['id'].astype('int')\n",
    "print(movie_data['id'].head())\n",
    "print(movie_data.shape)"
   ]
  },
  {
   "cell_type": "code",
   "execution_count": 35,
   "id": "d7739570",
   "metadata": {},
   "outputs": [
    {
     "name": "stdout",
     "output_type": "stream",
     "text": [
      "(9099, 25)\n"
     ]
    }
   ],
   "source": [
    "semi_movie_data = movie_data[movie_data['id'].isin(links_small)]\n",
    "print(semi_movie_data.shape)"
   ]
  },
  {
   "cell_type": "code",
   "execution_count": 36,
   "id": "591be21b",
   "metadata": {},
   "outputs": [
    {
     "name": "stdout",
     "output_type": "stream",
     "text": [
      "0                                                      NaN\n",
      "1                Roll the dice and unleash the excitement!\n",
      "2        Still Yelling. Still Fighting. Still Ready for...\n",
      "3        Friends are the people who let you be yourself...\n",
      "4        Just When His World Is Back To Normal... He's ...\n",
      "                               ...                        \n",
      "40224                      A god incarnate. A city doomed.\n",
      "40503              The band you know. The story you don't.\n",
      "44821                        Pokémon: Spell of the Unknown\n",
      "44826                                                  NaN\n",
      "45265                                                  NaN\n",
      "Name: tagline, Length: 9099, dtype: object\n"
     ]
    }
   ],
   "source": [
    "print(semi_movie_data['tagline'])"
   ]
  },
  {
   "cell_type": "code",
   "execution_count": 37,
   "id": "70dba76a",
   "metadata": {},
   "outputs": [
    {
     "name": "stderr",
     "output_type": "stream",
     "text": [
      "/var/folders/f7/pwt8mqn53h7cm0yx8tw9dw6m0000gn/T/ipykernel_91357/3722480038.py:1: SettingWithCopyWarning: \n",
      "A value is trying to be set on a copy of a slice from a DataFrame.\n",
      "Try using .loc[row_indexer,col_indexer] = value instead\n",
      "\n",
      "See the caveats in the documentation: https://pandas.pydata.org/pandas-docs/stable/user_guide/indexing.html#returning-a-view-versus-a-copy\n",
      "  semi_movie_data['tagline'] = semi_movie_data['tagline'].fillna('')\n"
     ]
    }
   ],
   "source": [
    "semi_movie_data['tagline'] = semi_movie_data['tagline'].fillna('')"
   ]
  },
  {
   "cell_type": "code",
   "execution_count": 38,
   "id": "06db2bf6",
   "metadata": {},
   "outputs": [
    {
     "name": "stdout",
     "output_type": "stream",
     "text": [
      "0                                                         \n",
      "1                Roll the dice and unleash the excitement!\n",
      "2        Still Yelling. Still Fighting. Still Ready for...\n",
      "3        Friends are the people who let you be yourself...\n",
      "4        Just When His World Is Back To Normal... He's ...\n",
      "                               ...                        \n",
      "40224                      A god incarnate. A city doomed.\n",
      "40503              The band you know. The story you don't.\n",
      "44821                        Pokémon: Spell of the Unknown\n",
      "44826                                                     \n",
      "45265                                                     \n",
      "Name: tagline, Length: 9099, dtype: object\n"
     ]
    }
   ],
   "source": [
    "print(semi_movie_data['tagline'])"
   ]
  },
  {
   "cell_type": "code",
   "execution_count": 39,
   "id": "6b91c642",
   "metadata": {},
   "outputs": [
    {
     "name": "stderr",
     "output_type": "stream",
     "text": [
      "/var/folders/f7/pwt8mqn53h7cm0yx8tw9dw6m0000gn/T/ipykernel_91357/2198709066.py:1: SettingWithCopyWarning: \n",
      "A value is trying to be set on a copy of a slice from a DataFrame.\n",
      "Try using .loc[row_indexer,col_indexer] = value instead\n",
      "\n",
      "See the caveats in the documentation: https://pandas.pydata.org/pandas-docs/stable/user_guide/indexing.html#returning-a-view-versus-a-copy\n",
      "  semi_movie_data['description'] = semi_movie_data['overview'] + semi_movie_data['tagline']\n",
      "/var/folders/f7/pwt8mqn53h7cm0yx8tw9dw6m0000gn/T/ipykernel_91357/2198709066.py:2: SettingWithCopyWarning: \n",
      "A value is trying to be set on a copy of a slice from a DataFrame.\n",
      "Try using .loc[row_indexer,col_indexer] = value instead\n",
      "\n",
      "See the caveats in the documentation: https://pandas.pydata.org/pandas-docs/stable/user_guide/indexing.html#returning-a-view-versus-a-copy\n",
      "  semi_movie_data['description'] = semi_movie_data['description'].fillna('')\n"
     ]
    }
   ],
   "source": [
    "semi_movie_data['description'] = semi_movie_data['overview'] + semi_movie_data['tagline']\n",
    "semi_movie_data['description'] = semi_movie_data['description'].fillna('')"
   ]
  },
  {
   "cell_type": "code",
   "execution_count": 40,
   "id": "2af78d0a",
   "metadata": {},
   "outputs": [],
   "source": [
    "tf = TfidfVectorizer(analyzer='word',ngram_range=(1, 2),min_df=0, stop_words='english')\n",
    "tfidf_matrix = tf.fit_transform(semi_movie_data['description'])"
   ]
  },
  {
   "cell_type": "code",
   "execution_count": 41,
   "id": "1bcbc3d0",
   "metadata": {},
   "outputs": [],
   "source": [
    "cosine_sim = linear_kernel(tfidf_matrix, tfidf_matrix)"
   ]
  },
  {
   "cell_type": "code",
   "execution_count": 42,
   "id": "d6c9c92b",
   "metadata": {},
   "outputs": [
    {
     "data": {
      "text/plain": [
       "array([1.        , 0.00680476, 0.        , ..., 0.        , 0.00344913,\n",
       "       0.        ])"
      ]
     },
     "execution_count": 42,
     "metadata": {},
     "output_type": "execute_result"
    }
   ],
   "source": [
    "cosine_sim[0]"
   ]
  },
  {
   "cell_type": "code",
   "execution_count": 43,
   "id": "43216f30",
   "metadata": {},
   "outputs": [],
   "source": [
    "semi_movie_data = semi_movie_data.reset_index()\n",
    "titles = semi_movie_data['title']\n",
    "indices = pd.Series(semi_movie_data.index, index=semi_movie_data['title'])"
   ]
  },
  {
   "cell_type": "code",
   "execution_count": 44,
   "id": "7a51ed66",
   "metadata": {},
   "outputs": [],
   "source": [
    "def get_recommendations_through_title(title):\n",
    "    idx = indices[title]\n",
    "    sim_scores = list(enumerate(cosine_sim[idx]))\n",
    "    sim_scores = sorted(sim_scores, key=lambda x: x[1], reverse=True)\n",
    "    sim_scores = sim_scores[1:31]\n",
    "    movie_indices = [i[0] for i in sim_scores]\n",
    "    return titles.iloc[movie_indices]"
   ]
  },
  {
   "cell_type": "code",
   "execution_count": 45,
   "id": "94b60cca",
   "metadata": {},
   "outputs": [
    {
     "data": {
      "text/plain": [
       "973      The Godfather: Part II\n",
       "8387                 The Family\n",
       "3509                       Made\n",
       "4196         Johnny Dangerously\n",
       "29               Shanghai Triad\n",
       "5667                       Fury\n",
       "2412             American Movie\n",
       "1582    The Godfather: Part III\n",
       "4221                    8 Women\n",
       "2159              Summer of Sam\n",
       "Name: title, dtype: object"
      ]
     },
     "execution_count": 45,
     "metadata": {},
     "output_type": "execute_result"
    }
   ],
   "source": [
    "get_recommendations_through_title('The Godfather').head(10)"
   ]
  },
  {
   "cell_type": "code",
   "execution_count": 46,
   "id": "7fc8ab8e",
   "metadata": {},
   "outputs": [
    {
     "data": {
      "text/plain": [
       "7931                      The Dark Knight Rises\n",
       "2579               Batman: Mask of the Phantasm\n",
       "6900                            The Dark Knight\n",
       "6144                              Batman Begins\n",
       "8165    Batman: The Dark Knight Returns, Part 1\n",
       "524                                      Batman\n",
       "1240                             Batman & Robin\n",
       "1113                             Batman Returns\n",
       "7565                 Batman: Under the Red Hood\n",
       "7901                           Batman: Year One\n",
       "Name: title, dtype: object"
      ]
     },
     "execution_count": 46,
     "metadata": {},
     "output_type": "execute_result"
    }
   ],
   "source": [
    "get_recommendations_through_title('Batman Forever').head(10)"
   ]
  },
  {
   "cell_type": "code",
   "execution_count": 47,
   "id": "2cb47684",
   "metadata": {},
   "outputs": [],
   "source": [
    "credits = pd.read_csv('archive/credits.csv')\n",
    "keywords = pd.read_csv('archive/keywords.csv')"
   ]
  },
  {
   "cell_type": "code",
   "execution_count": 48,
   "id": "e7b5e190",
   "metadata": {},
   "outputs": [
    {
     "name": "stdout",
     "output_type": "stream",
     "text": [
      "                                                cast  \\\n",
      "0  [{'cast_id': 14, 'character': 'Woody (voice)',...   \n",
      "1  [{'cast_id': 1, 'character': 'Alan Parrish', '...   \n",
      "2  [{'cast_id': 2, 'character': 'Max Goldman', 'c...   \n",
      "3  [{'cast_id': 1, 'character': \"Savannah 'Vannah...   \n",
      "4  [{'cast_id': 1, 'character': 'George Banks', '...   \n",
      "\n",
      "                                                crew     id  \n",
      "0  [{'credit_id': '52fe4284c3a36847f8024f49', 'de...    862  \n",
      "1  [{'credit_id': '52fe44bfc3a36847f80a7cd1', 'de...   8844  \n",
      "2  [{'credit_id': '52fe466a9251416c75077a89', 'de...  15602  \n",
      "3  [{'credit_id': '52fe44779251416c91011acb', 'de...  31357  \n",
      "4  [{'credit_id': '52fe44959251416c75039ed7', 'de...  11862  \n"
     ]
    }
   ],
   "source": [
    "print(credits.head())"
   ]
  },
  {
   "cell_type": "code",
   "execution_count": 49,
   "id": "cce5cbbb",
   "metadata": {},
   "outputs": [
    {
     "name": "stdout",
     "output_type": "stream",
     "text": [
      "    id                                           keywords\n",
      "0  862  [{'id': 931, 'name': 'jealousy'}, {'id': 4290,...\n"
     ]
    }
   ],
   "source": [
    "print(keywords.head(1))"
   ]
  },
  {
   "cell_type": "code",
   "execution_count": 50,
   "id": "f5362fd1",
   "metadata": {},
   "outputs": [
    {
     "name": "stdout",
     "output_type": "stream",
     "text": [
      "[{'id': 10090, 'name': 'board game'}, {'id': 10941, 'name': 'disappearance'}, {'id': 15101, 'name': \"based on children's book\"}, {'id': 33467, 'name': 'new home'}, {'id': 158086, 'name': 'recluse'}, {'id': 158091, 'name': 'giant insect'}]\n"
     ]
    }
   ],
   "source": [
    "print(keywords['keywords'].iloc[1])"
   ]
  },
  {
   "cell_type": "code",
   "execution_count": 51,
   "id": "f0534f3e",
   "metadata": {},
   "outputs": [],
   "source": [
    "keywords['id'] = keywords['id'].astype('int')\n",
    "credits['id'] = credits['id'].astype('int')\n",
    "movie_data['id'] = movie_data['id'].astype('int')"
   ]
  },
  {
   "cell_type": "code",
   "execution_count": 52,
   "id": "4546a340",
   "metadata": {},
   "outputs": [
    {
     "name": "stdout",
     "output_type": "stream",
     "text": [
      "(45463, 25)\n"
     ]
    }
   ],
   "source": [
    "print(movie_data.shape)"
   ]
  },
  {
   "cell_type": "code",
   "execution_count": 53,
   "id": "06483357",
   "metadata": {},
   "outputs": [],
   "source": [
    "movie_data=movie_data.merge(credits,on='id')"
   ]
  },
  {
   "cell_type": "code",
   "execution_count": 54,
   "id": "c44475ce",
   "metadata": {},
   "outputs": [],
   "source": [
    "movie_data=movie_data.merge(keywords, on='id')"
   ]
  },
  {
   "cell_type": "code",
   "execution_count": 55,
   "id": "b6f8dcaa",
   "metadata": {},
   "outputs": [
    {
     "data": {
      "text/plain": [
       "(9219, 28)"
      ]
     },
     "execution_count": 55,
     "metadata": {},
     "output_type": "execute_result"
    }
   ],
   "source": [
    "semi_movie_data1 = movie_data[movie_data['id'].isin(links_small)]\n",
    "semi_movie_data1.shape"
   ]
  },
  {
   "cell_type": "code",
   "execution_count": 56,
   "id": "09df48b6",
   "metadata": {},
   "outputs": [
    {
     "name": "stderr",
     "output_type": "stream",
     "text": [
      "/var/folders/f7/pwt8mqn53h7cm0yx8tw9dw6m0000gn/T/ipykernel_91357/1105046844.py:1: SettingWithCopyWarning: \n",
      "A value is trying to be set on a copy of a slice from a DataFrame.\n",
      "Try using .loc[row_indexer,col_indexer] = value instead\n",
      "\n",
      "See the caveats in the documentation: https://pandas.pydata.org/pandas-docs/stable/user_guide/indexing.html#returning-a-view-versus-a-copy\n",
      "  semi_movie_data1['cast'] = semi_movie_data1['cast'].apply(literal_eval)\n",
      "/var/folders/f7/pwt8mqn53h7cm0yx8tw9dw6m0000gn/T/ipykernel_91357/1105046844.py:2: SettingWithCopyWarning: \n",
      "A value is trying to be set on a copy of a slice from a DataFrame.\n",
      "Try using .loc[row_indexer,col_indexer] = value instead\n",
      "\n",
      "See the caveats in the documentation: https://pandas.pydata.org/pandas-docs/stable/user_guide/indexing.html#returning-a-view-versus-a-copy\n",
      "  semi_movie_data1['crew'] = semi_movie_data1['crew'].apply(literal_eval)\n",
      "/var/folders/f7/pwt8mqn53h7cm0yx8tw9dw6m0000gn/T/ipykernel_91357/1105046844.py:3: SettingWithCopyWarning: \n",
      "A value is trying to be set on a copy of a slice from a DataFrame.\n",
      "Try using .loc[row_indexer,col_indexer] = value instead\n",
      "\n",
      "See the caveats in the documentation: https://pandas.pydata.org/pandas-docs/stable/user_guide/indexing.html#returning-a-view-versus-a-copy\n",
      "  semi_movie_data1['keywords'] = semi_movie_data1['keywords'].apply(literal_eval)\n"
     ]
    }
   ],
   "source": [
    "semi_movie_data1['cast'] = semi_movie_data1['cast'].apply(literal_eval)\n",
    "semi_movie_data1['crew'] = semi_movie_data1['crew'].apply(literal_eval)\n",
    "semi_movie_data1['keywords'] = semi_movie_data1['keywords'].apply(literal_eval)"
   ]
  },
  {
   "cell_type": "code",
   "execution_count": 57,
   "id": "5d6037f3",
   "metadata": {},
   "outputs": [
    {
     "name": "stdout",
     "output_type": "stream",
     "text": [
      "[{'cast_id': 14, 'character': 'Woody (voice)', 'credit_id': '52fe4284c3a36847f8024f95', 'gender': 2, 'id': 31, 'name': 'Tom Hanks', 'order': 0, 'profile_path': '/pQFoyx7rp09CJTAb932F2g8Nlho.jpg'}, {'cast_id': 15, 'character': 'Buzz Lightyear (voice)', 'credit_id': '52fe4284c3a36847f8024f99', 'gender': 2, 'id': 12898, 'name': 'Tim Allen', 'order': 1, 'profile_path': '/uX2xVf6pMmPepxnvFWyBtjexzgY.jpg'}, {'cast_id': 16, 'character': 'Mr. Potato Head (voice)', 'credit_id': '52fe4284c3a36847f8024f9d', 'gender': 2, 'id': 7167, 'name': 'Don Rickles', 'order': 2, 'profile_path': '/h5BcaDMPRVLHLDzbQavec4xfSdt.jpg'}, {'cast_id': 17, 'character': 'Slinky Dog (voice)', 'credit_id': '52fe4284c3a36847f8024fa1', 'gender': 2, 'id': 12899, 'name': 'Jim Varney', 'order': 3, 'profile_path': '/eIo2jVVXYgjDtaHoF19Ll9vtW7h.jpg'}, {'cast_id': 18, 'character': 'Rex (voice)', 'credit_id': '52fe4284c3a36847f8024fa5', 'gender': 2, 'id': 12900, 'name': 'Wallace Shawn', 'order': 4, 'profile_path': '/oGE6JqPP2xH4tNORKNqxbNPYi7u.jpg'}, {'cast_id': 19, 'character': 'Hamm (voice)', 'credit_id': '52fe4284c3a36847f8024fa9', 'gender': 2, 'id': 7907, 'name': 'John Ratzenberger', 'order': 5, 'profile_path': '/yGechiKWL6TJDfVE2KPSJYqdMsY.jpg'}, {'cast_id': 20, 'character': 'Bo Peep (voice)', 'credit_id': '52fe4284c3a36847f8024fad', 'gender': 1, 'id': 8873, 'name': 'Annie Potts', 'order': 6, 'profile_path': '/eryXT84RL41jHSJcMy4kS3u9y6w.jpg'}, {'cast_id': 26, 'character': 'Andy (voice)', 'credit_id': '52fe4284c3a36847f8024fc1', 'gender': 0, 'id': 1116442, 'name': 'John Morris', 'order': 7, 'profile_path': '/vYGyvK4LzeaUCoNSHtsuqJUY15M.jpg'}, {'cast_id': 22, 'character': 'Sid (voice)', 'credit_id': '52fe4284c3a36847f8024fb1', 'gender': 2, 'id': 12901, 'name': 'Erik von Detten', 'order': 8, 'profile_path': '/twnF1ZaJ1FUNUuo6xLXwcxjayBE.jpg'}, {'cast_id': 23, 'character': 'Mrs. Davis (voice)', 'credit_id': '52fe4284c3a36847f8024fb5', 'gender': 1, 'id': 12133, 'name': 'Laurie Metcalf', 'order': 9, 'profile_path': '/unMMIT60eoBM2sN2nyR7EZ2BvvD.jpg'}, {'cast_id': 24, 'character': 'Sergeant (voice)', 'credit_id': '52fe4284c3a36847f8024fb9', 'gender': 2, 'id': 8655, 'name': 'R. Lee Ermey', 'order': 10, 'profile_path': '/r8GBqFBjypLUP9VVqDqfZ7wYbSs.jpg'}, {'cast_id': 25, 'character': 'Hannah (voice)', 'credit_id': '52fe4284c3a36847f8024fbd', 'gender': 1, 'id': 12903, 'name': 'Sarah Freeman', 'order': 11, 'profile_path': None}, {'cast_id': 27, 'character': 'TV Announcer (voice)', 'credit_id': '52fe4284c3a36847f8024fc5', 'gender': 2, 'id': 37221, 'name': 'Penn Jillette', 'order': 12, 'profile_path': '/zmAaXUdx12NRsssgHbk1T31j2x9.jpg'}]\n"
     ]
    }
   ],
   "source": [
    "print(semi_movie_data1['cast'].iloc[0])"
   ]
  },
  {
   "cell_type": "code",
   "execution_count": 58,
   "id": "fbb20b26",
   "metadata": {},
   "outputs": [
    {
     "name": "stderr",
     "output_type": "stream",
     "text": [
      "/var/folders/f7/pwt8mqn53h7cm0yx8tw9dw6m0000gn/T/ipykernel_91357/689219086.py:1: SettingWithCopyWarning: \n",
      "A value is trying to be set on a copy of a slice from a DataFrame.\n",
      "Try using .loc[row_indexer,col_indexer] = value instead\n",
      "\n",
      "See the caveats in the documentation: https://pandas.pydata.org/pandas-docs/stable/user_guide/indexing.html#returning-a-view-versus-a-copy\n",
      "  semi_movie_data1['cast_size'] = semi_movie_data1['cast'].apply(lambda x: len(x))\n",
      "/var/folders/f7/pwt8mqn53h7cm0yx8tw9dw6m0000gn/T/ipykernel_91357/689219086.py:2: SettingWithCopyWarning: \n",
      "A value is trying to be set on a copy of a slice from a DataFrame.\n",
      "Try using .loc[row_indexer,col_indexer] = value instead\n",
      "\n",
      "See the caveats in the documentation: https://pandas.pydata.org/pandas-docs/stable/user_guide/indexing.html#returning-a-view-versus-a-copy\n",
      "  semi_movie_data1['crew_size'] = semi_movie_data1['crew'].apply(lambda x: len(x))\n"
     ]
    }
   ],
   "source": [
    "semi_movie_data1['cast_size'] = semi_movie_data1['cast'].apply(lambda x: len(x))\n",
    "semi_movie_data1['crew_size'] = semi_movie_data1['crew'].apply(lambda x: len(x))"
   ]
  },
  {
   "cell_type": "code",
   "execution_count": 59,
   "id": "3e2a1cb1",
   "metadata": {},
   "outputs": [],
   "source": [
    "def get_director(x):\n",
    "    for i in x:\n",
    "        if i['job'] == 'Director':\n",
    "            return i['name']\n",
    "    return np.nan"
   ]
  },
  {
   "cell_type": "code",
   "execution_count": 60,
   "id": "dd612e06",
   "metadata": {},
   "outputs": [
    {
     "name": "stderr",
     "output_type": "stream",
     "text": [
      "/var/folders/f7/pwt8mqn53h7cm0yx8tw9dw6m0000gn/T/ipykernel_91357/2564700787.py:1: SettingWithCopyWarning: \n",
      "A value is trying to be set on a copy of a slice from a DataFrame.\n",
      "Try using .loc[row_indexer,col_indexer] = value instead\n",
      "\n",
      "See the caveats in the documentation: https://pandas.pydata.org/pandas-docs/stable/user_guide/indexing.html#returning-a-view-versus-a-copy\n",
      "  semi_movie_data1['director'] = semi_movie_data1['crew'].apply(get_director)\n"
     ]
    }
   ],
   "source": [
    "semi_movie_data1['director'] = semi_movie_data1['crew'].apply(get_director)"
   ]
  },
  {
   "cell_type": "code",
   "execution_count": 61,
   "id": "97f0616c",
   "metadata": {},
   "outputs": [
    {
     "name": "stderr",
     "output_type": "stream",
     "text": [
      "/var/folders/f7/pwt8mqn53h7cm0yx8tw9dw6m0000gn/T/ipykernel_91357/2289757211.py:1: SettingWithCopyWarning: \n",
      "A value is trying to be set on a copy of a slice from a DataFrame.\n",
      "Try using .loc[row_indexer,col_indexer] = value instead\n",
      "\n",
      "See the caveats in the documentation: https://pandas.pydata.org/pandas-docs/stable/user_guide/indexing.html#returning-a-view-versus-a-copy\n",
      "  semi_movie_data1['cast'] = semi_movie_data1['cast'].apply(lambda x: [i['name'] for i in x] if isinstance(x, list) else [])\n",
      "/var/folders/f7/pwt8mqn53h7cm0yx8tw9dw6m0000gn/T/ipykernel_91357/2289757211.py:2: SettingWithCopyWarning: \n",
      "A value is trying to be set on a copy of a slice from a DataFrame.\n",
      "Try using .loc[row_indexer,col_indexer] = value instead\n",
      "\n",
      "See the caveats in the documentation: https://pandas.pydata.org/pandas-docs/stable/user_guide/indexing.html#returning-a-view-versus-a-copy\n",
      "  semi_movie_data1['cast'] = semi_movie_data1['cast'].apply(lambda x: x[:3] if len(x) >=3 else x)\n"
     ]
    }
   ],
   "source": [
    "semi_movie_data1['cast'] = semi_movie_data1['cast'].apply(lambda x: [i['name'] for i in x] if isinstance(x, list) else [])\n",
    "semi_movie_data1['cast'] = semi_movie_data1['cast'].apply(lambda x: x[:3] if len(x) >=3 else x)"
   ]
  },
  {
   "cell_type": "code",
   "execution_count": 62,
   "id": "36e52149",
   "metadata": {},
   "outputs": [
    {
     "name": "stdout",
     "output_type": "stream",
     "text": [
      "0                      [Tom Hanks, Tim Allen, Don Rickles]\n",
      "1           [Robin Williams, Jonathan Hyde, Kirsten Dunst]\n",
      "2               [Walter Matthau, Jack Lemmon, Ann-Margret]\n",
      "3        [Whitney Houston, Angela Bassett, Loretta Devine]\n",
      "4               [Steve Martin, Diane Keaton, Martin Short]\n",
      "                               ...                        \n",
      "40952      [Sidney Poitier, Wendy Crewson, Jay O. Sanders]\n",
      "41172            [Akshay Kumar, Ileana D'Cruz, Esha Gupta]\n",
      "41225            [Hrithik Roshan, Pooja Hegde, Kabir Bedi]\n",
      "41391    [Hiroki Hasegawa, Yutaka Takenouchi, Satomi Is...\n",
      "41669           [Paul McCartney, Ringo Starr, John Lennon]\n",
      "Name: cast, Length: 9219, dtype: object\n"
     ]
    }
   ],
   "source": [
    "print(semi_movie_data1['cast'])"
   ]
  },
  {
   "cell_type": "code",
   "execution_count": 63,
   "id": "d77bd664",
   "metadata": {},
   "outputs": [
    {
     "name": "stderr",
     "output_type": "stream",
     "text": [
      "/var/folders/f7/pwt8mqn53h7cm0yx8tw9dw6m0000gn/T/ipykernel_91357/744800287.py:1: SettingWithCopyWarning: \n",
      "A value is trying to be set on a copy of a slice from a DataFrame.\n",
      "Try using .loc[row_indexer,col_indexer] = value instead\n",
      "\n",
      "See the caveats in the documentation: https://pandas.pydata.org/pandas-docs/stable/user_guide/indexing.html#returning-a-view-versus-a-copy\n",
      "  semi_movie_data1['keywords'] = semi_movie_data1['keywords'].apply(lambda x: [i['name'] for i in x] if isinstance(x, list) else [])\n"
     ]
    }
   ],
   "source": [
    "semi_movie_data1['keywords'] = semi_movie_data1['keywords'].apply(lambda x: [i['name'] for i in x] if isinstance(x, list) else [])"
   ]
  },
  {
   "cell_type": "code",
   "execution_count": 64,
   "id": "b31d6e27",
   "metadata": {},
   "outputs": [
    {
     "name": "stdout",
     "output_type": "stream",
     "text": [
      "0                  [Tom Hanks, Tim Allen, Don Rickles]\n",
      "1       [Robin Williams, Jonathan Hyde, Kirsten Dunst]\n",
      "2           [Walter Matthau, Jack Lemmon, Ann-Margret]\n",
      "3    [Whitney Houston, Angela Bassett, Loretta Devine]\n",
      "4           [Steve Martin, Diane Keaton, Martin Short]\n",
      "Name: cast, dtype: object\n"
     ]
    }
   ],
   "source": [
    "print(semi_movie_data1['cast'].head())"
   ]
  },
  {
   "cell_type": "code",
   "execution_count": 65,
   "id": "5afbf3ab",
   "metadata": {},
   "outputs": [
    {
     "name": "stderr",
     "output_type": "stream",
     "text": [
      "/var/folders/f7/pwt8mqn53h7cm0yx8tw9dw6m0000gn/T/ipykernel_91357/1149079268.py:1: SettingWithCopyWarning: \n",
      "A value is trying to be set on a copy of a slice from a DataFrame.\n",
      "Try using .loc[row_indexer,col_indexer] = value instead\n",
      "\n",
      "See the caveats in the documentation: https://pandas.pydata.org/pandas-docs/stable/user_guide/indexing.html#returning-a-view-versus-a-copy\n",
      "  semi_movie_data1['cast'] = semi_movie_data1['cast'].apply(lambda x: [str.lower(i.replace(\" \", \"\")) for i in x])\n"
     ]
    }
   ],
   "source": [
    "semi_movie_data1['cast'] = semi_movie_data1['cast'].apply(lambda x: [str.lower(i.replace(\" \", \"\")) for i in x])"
   ]
  },
  {
   "cell_type": "code",
   "execution_count": 66,
   "id": "9546723e",
   "metadata": {},
   "outputs": [
    {
     "name": "stdout",
     "output_type": "stream",
     "text": [
      "0                  [tomhanks, timallen, donrickles]\n",
      "1       [robinwilliams, jonathanhyde, kirstendunst]\n",
      "2          [waltermatthau, jacklemmon, ann-margret]\n",
      "3    [whitneyhouston, angelabassett, lorettadevine]\n",
      "4           [stevemartin, dianekeaton, martinshort]\n",
      "Name: cast, dtype: object\n"
     ]
    }
   ],
   "source": [
    "print(semi_movie_data1['cast'].head())"
   ]
  },
  {
   "cell_type": "code",
   "execution_count": 67,
   "id": "7f073bd5",
   "metadata": {},
   "outputs": [
    {
     "name": "stderr",
     "output_type": "stream",
     "text": [
      "/var/folders/f7/pwt8mqn53h7cm0yx8tw9dw6m0000gn/T/ipykernel_91357/303160363.py:1: SettingWithCopyWarning: \n",
      "A value is trying to be set on a copy of a slice from a DataFrame.\n",
      "Try using .loc[row_indexer,col_indexer] = value instead\n",
      "\n",
      "See the caveats in the documentation: https://pandas.pydata.org/pandas-docs/stable/user_guide/indexing.html#returning-a-view-versus-a-copy\n",
      "  semi_movie_data1['director'] = semi_movie_data1['director'].astype('str').apply(lambda x: str.lower(x.replace(\" \", \"\")))\n"
     ]
    }
   ],
   "source": [
    "semi_movie_data1['director'] = semi_movie_data1['director'].astype('str').apply(lambda x: str.lower(x.replace(\" \", \"\")))"
   ]
  },
  {
   "cell_type": "code",
   "execution_count": 68,
   "id": "b6ce1a5a",
   "metadata": {},
   "outputs": [
    {
     "name": "stderr",
     "output_type": "stream",
     "text": [
      "/var/folders/f7/pwt8mqn53h7cm0yx8tw9dw6m0000gn/T/ipykernel_91357/3032463353.py:2: SettingWithCopyWarning: \n",
      "A value is trying to be set on a copy of a slice from a DataFrame.\n",
      "Try using .loc[row_indexer,col_indexer] = value instead\n",
      "\n",
      "See the caveats in the documentation: https://pandas.pydata.org/pandas-docs/stable/user_guide/indexing.html#returning-a-view-versus-a-copy\n",
      "  semi_movie_data1['director'] = semi_movie_data1['director'].apply(lambda x: [x,x, x,x])\n"
     ]
    }
   ],
   "source": [
    "#Giving a higher preference to the director\n",
    "semi_movie_data1['director'] = semi_movie_data1['director'].apply(lambda x: [x,x, x,x])"
   ]
  },
  {
   "cell_type": "code",
   "execution_count": 69,
   "id": "fe6b282a",
   "metadata": {},
   "outputs": [
    {
     "name": "stdout",
     "output_type": "stream",
     "text": [
      "0    [johnlasseter, johnlasseter, johnlasseter, joh...\n",
      "1    [joejohnston, joejohnston, joejohnston, joejoh...\n",
      "2    [howarddeutch, howarddeutch, howarddeutch, how...\n",
      "3    [forestwhitaker, forestwhitaker, forestwhitake...\n",
      "4    [charlesshyer, charlesshyer, charlesshyer, cha...\n",
      "Name: director, dtype: object\n"
     ]
    }
   ],
   "source": [
    "print(semi_movie_data1['director'].head())"
   ]
  },
  {
   "cell_type": "code",
   "execution_count": 70,
   "id": "b5c761c1",
   "metadata": {},
   "outputs": [
    {
     "name": "stderr",
     "output_type": "stream",
     "text": [
      "/var/folders/f7/pwt8mqn53h7cm0yx8tw9dw6m0000gn/T/ipykernel_91357/1850487582.py:1: FutureWarning: The default dtype for empty Series will be 'object' instead of 'float64' in a future version. Specify a dtype explicitly to silence this warning.\n",
      "  s = semi_movie_data1.apply(lambda x: pd.Series(x['keywords']),axis=1).stack().reset_index(level=1, drop=True)\n"
     ]
    }
   ],
   "source": [
    "s = semi_movie_data1.apply(lambda x: pd.Series(x['keywords']),axis=1).stack().reset_index(level=1, drop=True)\n",
    "s.name = 'keyword'"
   ]
  },
  {
   "cell_type": "code",
   "execution_count": 71,
   "id": "86fc27f3",
   "metadata": {},
   "outputs": [
    {
     "name": "stdout",
     "output_type": "stream",
     "text": [
      "0        [jealousy, toy, boy, friendship, friends, riva...\n",
      "1        [board game, disappearance, based on children'...\n",
      "2        [fishing, best friend, duringcreditsstinger, o...\n",
      "3        [based on novel, interracial relationship, sin...\n",
      "4        [baby, midlife crisis, confidence, aging, daug...\n",
      "                               ...                        \n",
      "40952                           [friendship, brick making]\n",
      "41172                                          [bollywood]\n",
      "41225                                          [bollywood]\n",
      "41391    [monster, godzilla, giant monster, destruction...\n",
      "41669                                 [music, documentary]\n",
      "Name: keywords, Length: 9219, dtype: object\n",
      "0           jealousy\n",
      "0                toy\n",
      "0                boy\n",
      "0         friendship\n",
      "0            friends\n",
      "            ...     \n",
      "41391    destruction\n",
      "41391          kaiju\n",
      "41391          toyko\n",
      "41669          music\n",
      "41669    documentary\n",
      "Name: keyword, Length: 64407, dtype: object\n"
     ]
    }
   ],
   "source": [
    "print(semi_movie_data1['keywords'])\n",
    "print(s)"
   ]
  },
  {
   "cell_type": "code",
   "execution_count": 72,
   "id": "8b66c4a8",
   "metadata": {},
   "outputs": [],
   "source": [
    "s = s.value_counts()"
   ]
  },
  {
   "cell_type": "code",
   "execution_count": 73,
   "id": "555d58e0",
   "metadata": {},
   "outputs": [
    {
     "name": "stdout",
     "output_type": "stream",
     "text": [
      "independent film        610\n",
      "woman director          550\n",
      "murder                  399\n",
      "duringcreditsstinger    327\n",
      "based on novel          318\n",
      "violence                264\n",
      "love                    222\n",
      "musical                 219\n",
      "sex                     219\n",
      "suspense                212\n",
      "Name: keyword, dtype: int64\n"
     ]
    }
   ],
   "source": [
    "print(s[:10])"
   ]
  },
  {
   "cell_type": "code",
   "execution_count": 74,
   "id": "a513c028",
   "metadata": {},
   "outputs": [
    {
     "data": {
      "text/plain": [
       "'dog'"
      ]
     },
     "execution_count": 74,
     "metadata": {},
     "output_type": "execute_result"
    }
   ],
   "source": [
    "stemmer = SnowballStemmer('english')\n",
    "stemmer.stem('dogs')"
   ]
  },
  {
   "cell_type": "code",
   "execution_count": 75,
   "id": "0e3de2f3",
   "metadata": {},
   "outputs": [
    {
     "data": {
      "text/plain": [
       "'water'"
      ]
     },
     "execution_count": 75,
     "metadata": {},
     "output_type": "execute_result"
    }
   ],
   "source": [
    "stemmer.stem('waters')"
   ]
  },
  {
   "cell_type": "code",
   "execution_count": 76,
   "id": "8aa90cd4",
   "metadata": {},
   "outputs": [
    {
     "data": {
      "text/plain": [
       "'run'"
      ]
     },
     "execution_count": 76,
     "metadata": {},
     "output_type": "execute_result"
    }
   ],
   "source": [
    "stemmer.stem('running')"
   ]
  },
  {
   "cell_type": "code",
   "execution_count": 77,
   "id": "481cc230",
   "metadata": {},
   "outputs": [],
   "source": [
    "def filter_keywords(x):\n",
    "    words = []\n",
    "    for i in x:\n",
    "        if stemmer.stem(i) in s:\n",
    "            words.append(stemmer.stem(i))\n",
    "    return words"
   ]
  },
  {
   "cell_type": "code",
   "execution_count": 78,
   "id": "0ed599ef",
   "metadata": {},
   "outputs": [
    {
     "name": "stderr",
     "output_type": "stream",
     "text": [
      "/var/folders/f7/pwt8mqn53h7cm0yx8tw9dw6m0000gn/T/ipykernel_91357/1765982946.py:1: SettingWithCopyWarning: \n",
      "A value is trying to be set on a copy of a slice from a DataFrame.\n",
      "Try using .loc[row_indexer,col_indexer] = value instead\n",
      "\n",
      "See the caveats in the documentation: https://pandas.pydata.org/pandas-docs/stable/user_guide/indexing.html#returning-a-view-versus-a-copy\n",
      "  semi_movie_data1['keywords'] = semi_movie_data1['keywords'].apply(filter_keywords)\n",
      "/var/folders/f7/pwt8mqn53h7cm0yx8tw9dw6m0000gn/T/ipykernel_91357/1765982946.py:3: SettingWithCopyWarning: \n",
      "A value is trying to be set on a copy of a slice from a DataFrame.\n",
      "Try using .loc[row_indexer,col_indexer] = value instead\n",
      "\n",
      "See the caveats in the documentation: https://pandas.pydata.org/pandas-docs/stable/user_guide/indexing.html#returning-a-view-versus-a-copy\n",
      "  semi_movie_data1['keywords'] = semi_movie_data1['keywords'].apply(lambda x: [str.lower(i.replace(\" \", \"\")) for i in x])\n"
     ]
    }
   ],
   "source": [
    "semi_movie_data1['keywords'] = semi_movie_data1['keywords'].apply(filter_keywords)\n",
    "# semi_movie_data1['keywords'] = semi_movie_data1['keywords'].apply(lambda x: [stemmer.stem(i) for i in x])\n",
    "semi_movie_data1['keywords'] = semi_movie_data1['keywords'].apply(lambda x: [str.lower(i.replace(\" \", \"\")) for i in x])"
   ]
  },
  {
   "cell_type": "code",
   "execution_count": 79,
   "id": "6b86e8f8",
   "metadata": {},
   "outputs": [
    {
     "name": "stderr",
     "output_type": "stream",
     "text": [
      "/var/folders/f7/pwt8mqn53h7cm0yx8tw9dw6m0000gn/T/ipykernel_91357/4054894606.py:1: SettingWithCopyWarning: \n",
      "A value is trying to be set on a copy of a slice from a DataFrame.\n",
      "Try using .loc[row_indexer,col_indexer] = value instead\n",
      "\n",
      "See the caveats in the documentation: https://pandas.pydata.org/pandas-docs/stable/user_guide/indexing.html#returning-a-view-versus-a-copy\n",
      "  semi_movie_data1['predicting_data'] = semi_movie_data1['keywords'] + semi_movie_data1['cast'] + semi_movie_data1['director'] + semi_movie_data1['genres']\n",
      "/var/folders/f7/pwt8mqn53h7cm0yx8tw9dw6m0000gn/T/ipykernel_91357/4054894606.py:2: SettingWithCopyWarning: \n",
      "A value is trying to be set on a copy of a slice from a DataFrame.\n",
      "Try using .loc[row_indexer,col_indexer] = value instead\n",
      "\n",
      "See the caveats in the documentation: https://pandas.pydata.org/pandas-docs/stable/user_guide/indexing.html#returning-a-view-versus-a-copy\n",
      "  semi_movie_data1['predicting_data'] = semi_movie_data1['predicting_data'].apply(lambda x: ' '.join(x))\n"
     ]
    }
   ],
   "source": [
    "semi_movie_data1['predicting_data'] = semi_movie_data1['keywords'] + semi_movie_data1['cast'] + semi_movie_data1['director'] + semi_movie_data1['genres']\n",
    "semi_movie_data1['predicting_data'] = semi_movie_data1['predicting_data'].apply(lambda x: ' '.join(x))"
   ]
  },
  {
   "cell_type": "code",
   "execution_count": 80,
   "id": "113e6123",
   "metadata": {},
   "outputs": [
    {
     "name": "stdout",
     "output_type": "stream",
     "text": [
      "0    toy boy friendship friend boynextdoor newtoy t...\n",
      "Name: predicting_data, dtype: object\n"
     ]
    }
   ],
   "source": [
    "print(semi_movie_data1['predicting_data'].head(1))"
   ]
  },
  {
   "cell_type": "code",
   "execution_count": 81,
   "id": "67991183",
   "metadata": {},
   "outputs": [],
   "source": [
    "count = CountVectorizer(analyzer='word',ngram_range=(1, 2),min_df=0, stop_words='english')\n",
    "count_matrix = count.fit_transform(semi_movie_data1['predicting_data'])"
   ]
  },
  {
   "cell_type": "code",
   "execution_count": 82,
   "id": "2d662fb0",
   "metadata": {},
   "outputs": [],
   "source": [
    "cosine_sim1 = cosine_similarity(count_matrix, count_matrix)"
   ]
  },
  {
   "cell_type": "code",
   "execution_count": 83,
   "id": "a0f2a119",
   "metadata": {},
   "outputs": [],
   "source": [
    "def get_recommendations_through_user_filtering(title):\n",
    "    idx = indices[title]\n",
    "    sim_scores = list(enumerate(cosine_sim1[idx]))\n",
    "    sim_scores = sorted(sim_scores, key=lambda x: x[1], reverse=True)\n",
    "    sim_scores = sim_scores[1:31]\n",
    "    movie_indices = [i[0] for i in sim_scores]\n",
    "    return titles.iloc[movie_indices]"
   ]
  },
  {
   "cell_type": "code",
   "execution_count": 84,
   "id": "6ec55ecb",
   "metadata": {},
   "outputs": [],
   "source": [
    "semi_movie_data1 = semi_movie_data1.reset_index()\n",
    "titles = semi_movie_data1['title']\n",
    "indices = pd.Series(semi_movie_data1.index, index=semi_movie_data1['title'])"
   ]
  },
  {
   "cell_type": "code",
   "execution_count": 85,
   "id": "1bf55717",
   "metadata": {},
   "outputs": [
    {
     "data": {
      "text/plain": [
       "173                        Species\n",
       "3379                   Exit Wounds\n",
       "6842    Far from the Madding Crowd\n",
       "12                           Balto\n",
       "6427                Curious George\n",
       "6568                 Blithe Spirit\n",
       "3635                The Dream Team\n",
       "9066        Long-Term Relationship\n",
       "1611            The Black Cauldron\n",
       "2167        The General's Daughter\n",
       "Name: title, dtype: object"
      ]
     },
     "execution_count": 85,
     "metadata": {},
     "output_type": "execute_result"
    }
   ],
   "source": [
    "get_recommendations_through_title('The Dark Knight').head(10)"
   ]
  },
  {
   "cell_type": "code",
   "execution_count": 86,
   "id": "a0cb716f",
   "metadata": {},
   "outputs": [
    {
     "data": {
      "text/plain": [
       "8031      The Dark Knight Rises\n",
       "6218              Batman Begins\n",
       "6623               The Prestige\n",
       "2085                  Following\n",
       "4145                   Insomnia\n",
       "7648                  Inception\n",
       "3381                    Memento\n",
       "8613               Interstellar\n",
       "8927    Kidnapping Mr. Heineken\n",
       "5943                   Thursday\n",
       "Name: title, dtype: object"
      ]
     },
     "execution_count": 86,
     "metadata": {},
     "output_type": "execute_result"
    }
   ],
   "source": [
    "get_recommendations_through_user_filtering('The Dark Knight').head(10)"
   ]
  },
  {
   "cell_type": "code",
   "execution_count": 87,
   "id": "d5c9b602",
   "metadata": {},
   "outputs": [
    {
     "data": {
      "text/plain": [
       "8243           The Ambassador\n",
       "6650            Blood Diamond\n",
       "2841       Where the Money is\n",
       "5400            La Dolce Vita\n",
       "2955           Prizzi's Honor\n",
       "4481      The American Friend\n",
       "4781             House of Wax\n",
       "5618              Dead Ringer\n",
       "5683                 Undertow\n",
       "4946    Dance with a Stranger\n",
       "Name: title, dtype: object"
      ]
     },
     "execution_count": 87,
     "metadata": {},
     "output_type": "execute_result"
    }
   ],
   "source": [
    "get_recommendations_through_title('Mean Girls').head(10)"
   ]
  },
  {
   "cell_type": "code",
   "execution_count": 88,
   "id": "8404435e",
   "metadata": {},
   "outputs": [
    {
     "data": {
      "text/plain": [
       "1329                           The House of Yes\n",
       "3319                            Head Over Heels\n",
       "7332                 Ghosts of Girlfriends Past\n",
       "6277                           Just Like Heaven\n",
       "7905                      Mr. Popper's Penguins\n",
       "4763                              Freaky Friday\n",
       "6959                  The Spiderwick Chronicles\n",
       "5152       Confessions of a Teenage Drama Queen\n",
       "8883                                   The DUFF\n",
       "7084    The Sisterhood of the Traveling Pants 2\n",
       "Name: title, dtype: object"
      ]
     },
     "execution_count": 88,
     "metadata": {},
     "output_type": "execute_result"
    }
   ],
   "source": [
    "get_recommendations_through_user_filtering('Mean Girls').head(10)"
   ]
  },
  {
   "cell_type": "code",
   "execution_count": 89,
   "id": "a06f4700",
   "metadata": {},
   "outputs": [],
   "source": [
    "def improved_recommendations(title):\n",
    "    idx = indices[title]\n",
    "    sim_scores = list(enumerate(cosine_sim1[idx]))\n",
    "    sim_scores = sorted(sim_scores, key=lambda x: x[1], reverse=True)\n",
    "    sim_scores = sim_scores[1:26]\n",
    "    movie_indices = [i[0] for i in sim_scores]\n",
    "    \n",
    "    movies = semi_movie_data1.iloc[movie_indices][['title', 'vote_count', 'vote_average', 'year']]\n",
    "    vote_counts = movies[movies['vote_count'].notnull()]['vote_count'].astype('int')\n",
    "    vote_averages = movies[movies['vote_average'].notnull()]['vote_average'].astype('int')\n",
    "    C = vote_averages.mean()\n",
    "    m = vote_counts.quantile(0.60)\n",
    "    qualified = movies[(movies['vote_count'] >= m) & (movies['vote_count'].notnull()) & (movies['vote_average'].notnull())]\n",
    "    qualified['vote_count'] = qualified['vote_count'].astype('int')\n",
    "    qualified['vote_average'] = qualified['vote_average'].astype('int')\n",
    "    qualified['wr'] = qualified.apply(weighted_rating, axis=1)\n",
    "    qualified = qualified.sort_values('wr', ascending=False).head(10)\n",
    "    return qualified"
   ]
  },
  {
   "cell_type": "code",
   "execution_count": 90,
   "id": "a665e07e",
   "metadata": {},
   "outputs": [
    {
     "name": "stderr",
     "output_type": "stream",
     "text": [
      "/var/folders/f7/pwt8mqn53h7cm0yx8tw9dw6m0000gn/T/ipykernel_91357/1207390994.py:14: SettingWithCopyWarning: \n",
      "A value is trying to be set on a copy of a slice from a DataFrame.\n",
      "Try using .loc[row_indexer,col_indexer] = value instead\n",
      "\n",
      "See the caveats in the documentation: https://pandas.pydata.org/pandas-docs/stable/user_guide/indexing.html#returning-a-view-versus-a-copy\n",
      "  qualified['vote_count'] = qualified['vote_count'].astype('int')\n",
      "/var/folders/f7/pwt8mqn53h7cm0yx8tw9dw6m0000gn/T/ipykernel_91357/1207390994.py:15: SettingWithCopyWarning: \n",
      "A value is trying to be set on a copy of a slice from a DataFrame.\n",
      "Try using .loc[row_indexer,col_indexer] = value instead\n",
      "\n",
      "See the caveats in the documentation: https://pandas.pydata.org/pandas-docs/stable/user_guide/indexing.html#returning-a-view-versus-a-copy\n",
      "  qualified['vote_average'] = qualified['vote_average'].astype('int')\n",
      "/var/folders/f7/pwt8mqn53h7cm0yx8tw9dw6m0000gn/T/ipykernel_91357/1207390994.py:16: SettingWithCopyWarning: \n",
      "A value is trying to be set on a copy of a slice from a DataFrame.\n",
      "Try using .loc[row_indexer,col_indexer] = value instead\n",
      "\n",
      "See the caveats in the documentation: https://pandas.pydata.org/pandas-docs/stable/user_guide/indexing.html#returning-a-view-versus-a-copy\n",
      "  qualified['wr'] = qualified.apply(weighted_rating, axis=1)\n"
     ]
    },
    {
     "data": {
      "text/html": [
       "<div>\n",
       "<style scoped>\n",
       "    .dataframe tbody tr th:only-of-type {\n",
       "        vertical-align: middle;\n",
       "    }\n",
       "\n",
       "    .dataframe tbody tr th {\n",
       "        vertical-align: top;\n",
       "    }\n",
       "\n",
       "    .dataframe thead th {\n",
       "        text-align: right;\n",
       "    }\n",
       "</style>\n",
       "<table border=\"1\" class=\"dataframe\">\n",
       "  <thead>\n",
       "    <tr style=\"text-align: right;\">\n",
       "      <th></th>\n",
       "      <th>title</th>\n",
       "      <th>vote_count</th>\n",
       "      <th>vote_average</th>\n",
       "      <th>year</th>\n",
       "      <th>wr</th>\n",
       "    </tr>\n",
       "  </thead>\n",
       "  <tbody>\n",
       "    <tr>\n",
       "      <th>7648</th>\n",
       "      <td>Inception</td>\n",
       "      <td>14075</td>\n",
       "      <td>8</td>\n",
       "      <td>2010</td>\n",
       "      <td>7.917588</td>\n",
       "    </tr>\n",
       "    <tr>\n",
       "      <th>8613</th>\n",
       "      <td>Interstellar</td>\n",
       "      <td>11187</td>\n",
       "      <td>8</td>\n",
       "      <td>2014</td>\n",
       "      <td>7.897107</td>\n",
       "    </tr>\n",
       "    <tr>\n",
       "      <th>6623</th>\n",
       "      <td>The Prestige</td>\n",
       "      <td>4510</td>\n",
       "      <td>8</td>\n",
       "      <td>2006</td>\n",
       "      <td>7.758148</td>\n",
       "    </tr>\n",
       "    <tr>\n",
       "      <th>3381</th>\n",
       "      <td>Memento</td>\n",
       "      <td>4168</td>\n",
       "      <td>8</td>\n",
       "      <td>2000</td>\n",
       "      <td>7.740175</td>\n",
       "    </tr>\n",
       "    <tr>\n",
       "      <th>8031</th>\n",
       "      <td>The Dark Knight Rises</td>\n",
       "      <td>9263</td>\n",
       "      <td>7</td>\n",
       "      <td>2012</td>\n",
       "      <td>6.921448</td>\n",
       "    </tr>\n",
       "    <tr>\n",
       "      <th>6218</th>\n",
       "      <td>Batman Begins</td>\n",
       "      <td>7511</td>\n",
       "      <td>7</td>\n",
       "      <td>2005</td>\n",
       "      <td>6.904127</td>\n",
       "    </tr>\n",
       "    <tr>\n",
       "      <th>4145</th>\n",
       "      <td>Insomnia</td>\n",
       "      <td>1181</td>\n",
       "      <td>6</td>\n",
       "      <td>2002</td>\n",
       "      <td>5.797081</td>\n",
       "    </tr>\n",
       "    <tr>\n",
       "      <th>7133</th>\n",
       "      <td>RockNRolla</td>\n",
       "      <td>851</td>\n",
       "      <td>6</td>\n",
       "      <td>2008</td>\n",
       "      <td>5.744969</td>\n",
       "    </tr>\n",
       "    <tr>\n",
       "      <th>149</th>\n",
       "      <td>Hackers</td>\n",
       "      <td>406</td>\n",
       "      <td>6</td>\n",
       "      <td>1995</td>\n",
       "      <td>5.609863</td>\n",
       "    </tr>\n",
       "    <tr>\n",
       "      <th>8026</th>\n",
       "      <td>Bullet to the Head</td>\n",
       "      <td>490</td>\n",
       "      <td>5</td>\n",
       "      <td>2013</td>\n",
       "      <td>5.115027</td>\n",
       "    </tr>\n",
       "  </tbody>\n",
       "</table>\n",
       "</div>"
      ],
      "text/plain": [
       "                      title  vote_count  vote_average  year        wr\n",
       "7648              Inception       14075             8  2010  7.917588\n",
       "8613           Interstellar       11187             8  2014  7.897107\n",
       "6623           The Prestige        4510             8  2006  7.758148\n",
       "3381                Memento        4168             8  2000  7.740175\n",
       "8031  The Dark Knight Rises        9263             7  2012  6.921448\n",
       "6218          Batman Begins        7511             7  2005  6.904127\n",
       "4145               Insomnia        1181             6  2002  5.797081\n",
       "7133             RockNRolla         851             6  2008  5.744969\n",
       "149                 Hackers         406             6  1995  5.609863\n",
       "8026     Bullet to the Head         490             5  2013  5.115027"
      ]
     },
     "execution_count": 90,
     "metadata": {},
     "output_type": "execute_result"
    }
   ],
   "source": [
    "improved_recommendations('The Dark Knight')"
   ]
  },
  {
   "cell_type": "code",
   "execution_count": 91,
   "id": "9c370b10",
   "metadata": {},
   "outputs": [
    {
     "data": {
      "text/plain": [
       "8031      The Dark Knight Rises\n",
       "6218              Batman Begins\n",
       "6623               The Prestige\n",
       "2085                  Following\n",
       "4145                   Insomnia\n",
       "7648                  Inception\n",
       "3381                    Memento\n",
       "8613               Interstellar\n",
       "8927    Kidnapping Mr. Heineken\n",
       "5943                   Thursday\n",
       "Name: title, dtype: object"
      ]
     },
     "execution_count": 91,
     "metadata": {},
     "output_type": "execute_result"
    }
   ],
   "source": [
    "get_recommendations_through_user_filtering('The Dark Knight').head(10)"
   ]
  },
  {
   "cell_type": "code",
   "execution_count": 92,
   "id": "5f6b4250",
   "metadata": {},
   "outputs": [
    {
     "data": {
      "text/plain": [
       "173                        Species\n",
       "3379                   Exit Wounds\n",
       "6842    Far from the Madding Crowd\n",
       "12                           Balto\n",
       "6427                Curious George\n",
       "6568                 Blithe Spirit\n",
       "3635                The Dream Team\n",
       "9066        Long-Term Relationship\n",
       "1611            The Black Cauldron\n",
       "2167        The General's Daughter\n",
       "Name: title, dtype: object"
      ]
     },
     "execution_count": 92,
     "metadata": {},
     "output_type": "execute_result"
    }
   ],
   "source": [
    "get_recommendations_through_title('The Dark Knight').head(10)"
   ]
  },
  {
   "cell_type": "code",
   "execution_count": null,
   "id": "8a86bc84",
   "metadata": {},
   "outputs": [],
   "source": [
    "#Now lets move on to colabrative filtering."
   ]
  },
  {
   "cell_type": "code",
   "execution_count": 93,
   "id": "53b3171c",
   "metadata": {},
   "outputs": [],
   "source": [
    "reader = Reader()"
   ]
  },
  {
   "cell_type": "code",
   "execution_count": 94,
   "id": "fdd9c025",
   "metadata": {},
   "outputs": [
    {
     "data": {
      "text/html": [
       "<div>\n",
       "<style scoped>\n",
       "    .dataframe tbody tr th:only-of-type {\n",
       "        vertical-align: middle;\n",
       "    }\n",
       "\n",
       "    .dataframe tbody tr th {\n",
       "        vertical-align: top;\n",
       "    }\n",
       "\n",
       "    .dataframe thead th {\n",
       "        text-align: right;\n",
       "    }\n",
       "</style>\n",
       "<table border=\"1\" class=\"dataframe\">\n",
       "  <thead>\n",
       "    <tr style=\"text-align: right;\">\n",
       "      <th></th>\n",
       "      <th>userId</th>\n",
       "      <th>movieId</th>\n",
       "      <th>rating</th>\n",
       "      <th>timestamp</th>\n",
       "    </tr>\n",
       "  </thead>\n",
       "  <tbody>\n",
       "    <tr>\n",
       "      <th>0</th>\n",
       "      <td>1</td>\n",
       "      <td>31</td>\n",
       "      <td>2.5</td>\n",
       "      <td>1260759144</td>\n",
       "    </tr>\n",
       "    <tr>\n",
       "      <th>1</th>\n",
       "      <td>1</td>\n",
       "      <td>1029</td>\n",
       "      <td>3.0</td>\n",
       "      <td>1260759179</td>\n",
       "    </tr>\n",
       "    <tr>\n",
       "      <th>2</th>\n",
       "      <td>1</td>\n",
       "      <td>1061</td>\n",
       "      <td>3.0</td>\n",
       "      <td>1260759182</td>\n",
       "    </tr>\n",
       "    <tr>\n",
       "      <th>3</th>\n",
       "      <td>1</td>\n",
       "      <td>1129</td>\n",
       "      <td>2.0</td>\n",
       "      <td>1260759185</td>\n",
       "    </tr>\n",
       "    <tr>\n",
       "      <th>4</th>\n",
       "      <td>1</td>\n",
       "      <td>1172</td>\n",
       "      <td>4.0</td>\n",
       "      <td>1260759205</td>\n",
       "    </tr>\n",
       "  </tbody>\n",
       "</table>\n",
       "</div>"
      ],
      "text/plain": [
       "   userId  movieId  rating   timestamp\n",
       "0       1       31     2.5  1260759144\n",
       "1       1     1029     3.0  1260759179\n",
       "2       1     1061     3.0  1260759182\n",
       "3       1     1129     2.0  1260759185\n",
       "4       1     1172     4.0  1260759205"
      ]
     },
     "execution_count": 94,
     "metadata": {},
     "output_type": "execute_result"
    }
   ],
   "source": [
    "ratings = pd.read_csv('archive/ratings_small.csv')\n",
    "ratings.head()"
   ]
  },
  {
   "cell_type": "code",
   "execution_count": 95,
   "id": "1efed020",
   "metadata": {},
   "outputs": [],
   "source": [
    "data = Dataset.load_from_df(ratings[['userId', 'movieId', 'rating']], reader)"
   ]
  },
  {
   "cell_type": "code",
   "execution_count": 96,
   "id": "ab70d9ea",
   "metadata": {},
   "outputs": [
    {
     "name": "stdout",
     "output_type": "stream",
     "text": [
      "Evaluating RMSE, MAE of algorithm SVD on 5 split(s).\n",
      "\n",
      "                  Fold 1  Fold 2  Fold 3  Fold 4  Fold 5  Mean    Std     \n",
      "RMSE (testset)    0.8884  0.9061  0.8858  0.9038  0.8990  0.8966  0.0081  \n",
      "MAE (testset)     0.6846  0.6978  0.6839  0.6956  0.6936  0.6911  0.0058  \n",
      "Fit time          0.51    0.56    0.52    0.50    0.51    0.52    0.02    \n",
      "Test time         0.07    0.26    0.07    0.07    0.14    0.12    0.07    \n"
     ]
    },
    {
     "data": {
      "text/plain": [
       "{'test_rmse': array([0.88836208, 0.90611478, 0.88582661, 0.90379302, 0.8989631 ]),\n",
       " 'test_mae': array([0.68455556, 0.69779824, 0.68387455, 0.69558359, 0.69360704]),\n",
       " 'fit_time': (0.5133819580078125,\n",
       "  0.5603959560394287,\n",
       "  0.5173380374908447,\n",
       "  0.5015771389007568,\n",
       "  0.5077500343322754),\n",
       " 'test_time': (0.07365822792053223,\n",
       "  0.25677990913391113,\n",
       "  0.06796693801879883,\n",
       "  0.06730079650878906,\n",
       "  0.13960886001586914)}"
      ]
     },
     "execution_count": 96,
     "metadata": {},
     "output_type": "execute_result"
    }
   ],
   "source": [
    "svd = SVD()\n",
    "cross_validate(svd, data, measures=['RMSE', 'MAE'], cv=5, verbose=True)"
   ]
  },
  {
   "cell_type": "code",
   "execution_count": 97,
   "id": "835034e7",
   "metadata": {},
   "outputs": [
    {
     "data": {
      "text/html": [
       "<div>\n",
       "<style scoped>\n",
       "    .dataframe tbody tr th:only-of-type {\n",
       "        vertical-align: middle;\n",
       "    }\n",
       "\n",
       "    .dataframe tbody tr th {\n",
       "        vertical-align: top;\n",
       "    }\n",
       "\n",
       "    .dataframe thead th {\n",
       "        text-align: right;\n",
       "    }\n",
       "</style>\n",
       "<table border=\"1\" class=\"dataframe\">\n",
       "  <thead>\n",
       "    <tr style=\"text-align: right;\">\n",
       "      <th></th>\n",
       "      <th>userId</th>\n",
       "      <th>movieId</th>\n",
       "      <th>rating</th>\n",
       "      <th>timestamp</th>\n",
       "    </tr>\n",
       "  </thead>\n",
       "  <tbody>\n",
       "    <tr>\n",
       "      <th>0</th>\n",
       "      <td>1</td>\n",
       "      <td>31</td>\n",
       "      <td>2.5</td>\n",
       "      <td>1260759144</td>\n",
       "    </tr>\n",
       "    <tr>\n",
       "      <th>1</th>\n",
       "      <td>1</td>\n",
       "      <td>1029</td>\n",
       "      <td>3.0</td>\n",
       "      <td>1260759179</td>\n",
       "    </tr>\n",
       "    <tr>\n",
       "      <th>2</th>\n",
       "      <td>1</td>\n",
       "      <td>1061</td>\n",
       "      <td>3.0</td>\n",
       "      <td>1260759182</td>\n",
       "    </tr>\n",
       "    <tr>\n",
       "      <th>3</th>\n",
       "      <td>1</td>\n",
       "      <td>1129</td>\n",
       "      <td>2.0</td>\n",
       "      <td>1260759185</td>\n",
       "    </tr>\n",
       "    <tr>\n",
       "      <th>4</th>\n",
       "      <td>1</td>\n",
       "      <td>1172</td>\n",
       "      <td>4.0</td>\n",
       "      <td>1260759205</td>\n",
       "    </tr>\n",
       "    <tr>\n",
       "      <th>5</th>\n",
       "      <td>1</td>\n",
       "      <td>1263</td>\n",
       "      <td>2.0</td>\n",
       "      <td>1260759151</td>\n",
       "    </tr>\n",
       "    <tr>\n",
       "      <th>6</th>\n",
       "      <td>1</td>\n",
       "      <td>1287</td>\n",
       "      <td>2.0</td>\n",
       "      <td>1260759187</td>\n",
       "    </tr>\n",
       "    <tr>\n",
       "      <th>7</th>\n",
       "      <td>1</td>\n",
       "      <td>1293</td>\n",
       "      <td>2.0</td>\n",
       "      <td>1260759148</td>\n",
       "    </tr>\n",
       "    <tr>\n",
       "      <th>8</th>\n",
       "      <td>1</td>\n",
       "      <td>1339</td>\n",
       "      <td>3.5</td>\n",
       "      <td>1260759125</td>\n",
       "    </tr>\n",
       "    <tr>\n",
       "      <th>9</th>\n",
       "      <td>1</td>\n",
       "      <td>1343</td>\n",
       "      <td>2.0</td>\n",
       "      <td>1260759131</td>\n",
       "    </tr>\n",
       "    <tr>\n",
       "      <th>10</th>\n",
       "      <td>1</td>\n",
       "      <td>1371</td>\n",
       "      <td>2.5</td>\n",
       "      <td>1260759135</td>\n",
       "    </tr>\n",
       "    <tr>\n",
       "      <th>11</th>\n",
       "      <td>1</td>\n",
       "      <td>1405</td>\n",
       "      <td>1.0</td>\n",
       "      <td>1260759203</td>\n",
       "    </tr>\n",
       "    <tr>\n",
       "      <th>12</th>\n",
       "      <td>1</td>\n",
       "      <td>1953</td>\n",
       "      <td>4.0</td>\n",
       "      <td>1260759191</td>\n",
       "    </tr>\n",
       "    <tr>\n",
       "      <th>13</th>\n",
       "      <td>1</td>\n",
       "      <td>2105</td>\n",
       "      <td>4.0</td>\n",
       "      <td>1260759139</td>\n",
       "    </tr>\n",
       "    <tr>\n",
       "      <th>14</th>\n",
       "      <td>1</td>\n",
       "      <td>2150</td>\n",
       "      <td>3.0</td>\n",
       "      <td>1260759194</td>\n",
       "    </tr>\n",
       "    <tr>\n",
       "      <th>15</th>\n",
       "      <td>1</td>\n",
       "      <td>2193</td>\n",
       "      <td>2.0</td>\n",
       "      <td>1260759198</td>\n",
       "    </tr>\n",
       "    <tr>\n",
       "      <th>16</th>\n",
       "      <td>1</td>\n",
       "      <td>2294</td>\n",
       "      <td>2.0</td>\n",
       "      <td>1260759108</td>\n",
       "    </tr>\n",
       "    <tr>\n",
       "      <th>17</th>\n",
       "      <td>1</td>\n",
       "      <td>2455</td>\n",
       "      <td>2.5</td>\n",
       "      <td>1260759113</td>\n",
       "    </tr>\n",
       "    <tr>\n",
       "      <th>18</th>\n",
       "      <td>1</td>\n",
       "      <td>2968</td>\n",
       "      <td>1.0</td>\n",
       "      <td>1260759200</td>\n",
       "    </tr>\n",
       "    <tr>\n",
       "      <th>19</th>\n",
       "      <td>1</td>\n",
       "      <td>3671</td>\n",
       "      <td>3.0</td>\n",
       "      <td>1260759117</td>\n",
       "    </tr>\n",
       "  </tbody>\n",
       "</table>\n",
       "</div>"
      ],
      "text/plain": [
       "    userId  movieId  rating   timestamp\n",
       "0        1       31     2.5  1260759144\n",
       "1        1     1029     3.0  1260759179\n",
       "2        1     1061     3.0  1260759182\n",
       "3        1     1129     2.0  1260759185\n",
       "4        1     1172     4.0  1260759205\n",
       "5        1     1263     2.0  1260759151\n",
       "6        1     1287     2.0  1260759187\n",
       "7        1     1293     2.0  1260759148\n",
       "8        1     1339     3.5  1260759125\n",
       "9        1     1343     2.0  1260759131\n",
       "10       1     1371     2.5  1260759135\n",
       "11       1     1405     1.0  1260759203\n",
       "12       1     1953     4.0  1260759191\n",
       "13       1     2105     4.0  1260759139\n",
       "14       1     2150     3.0  1260759194\n",
       "15       1     2193     2.0  1260759198\n",
       "16       1     2294     2.0  1260759108\n",
       "17       1     2455     2.5  1260759113\n",
       "18       1     2968     1.0  1260759200\n",
       "19       1     3671     3.0  1260759117"
      ]
     },
     "execution_count": 97,
     "metadata": {},
     "output_type": "execute_result"
    }
   ],
   "source": [
    "ratings[ratings['userId'] == 1]"
   ]
  },
  {
   "cell_type": "code",
   "execution_count": 98,
   "id": "60542550",
   "metadata": {},
   "outputs": [
    {
     "data": {
      "text/plain": [
       "Prediction(uid=1, iid=302, r_ui=3, est=2.7135380180516653, details={'was_impossible': False})"
      ]
     },
     "execution_count": 98,
     "metadata": {},
     "output_type": "execute_result"
    }
   ],
   "source": [
    "svd.predict(1, 302, 3)"
   ]
  },
  {
   "cell_type": "code",
   "execution_count": 99,
   "id": "9bc41820",
   "metadata": {},
   "outputs": [],
   "source": [
    "def convert_int(x):\n",
    "    try:\n",
    "        return int(x)\n",
    "    except:\n",
    "        return np.nan"
   ]
  },
  {
   "cell_type": "code",
   "execution_count": 100,
   "id": "6ed3836d",
   "metadata": {},
   "outputs": [],
   "source": [
    "id_map = pd.read_csv('archive/links_small.csv')[['movieId', 'tmdbId']]\n",
    "id_map['tmdbId'] = id_map['tmdbId'].apply(convert_int)\n",
    "id_map.columns = ['movieId', 'id']\n",
    "id_map = id_map.merge(semi_movie_data1[['title', 'id']], on='id').set_index('title')"
   ]
  },
  {
   "cell_type": "code",
   "execution_count": 101,
   "id": "ff166e37",
   "metadata": {},
   "outputs": [],
   "source": [
    "indices_map = id_map.set_index('id')"
   ]
  },
  {
   "cell_type": "code",
   "execution_count": 102,
   "id": "a109cae3",
   "metadata": {},
   "outputs": [],
   "source": [
    "def hybrid(userId, title):\n",
    "    idx = indices[title]\n",
    "    tmdbId = id_map.loc[title]['id']\n",
    "    movie_id = id_map.loc[title]['movieId']\n",
    "    \n",
    "    sim_scores = list(enumerate(cosine_sim1[int(idx)]))\n",
    "    sim_scores = sorted(sim_scores, key=lambda x: x[1], reverse=True)\n",
    "    sim_scores = sim_scores[1:26]\n",
    "    movie_indices = [i[0] for i in sim_scores]\n",
    "    \n",
    "    movies = semi_movie_data1.iloc[movie_indices][['title', 'vote_count', 'vote_average', 'year', 'id']]\n",
    "    movies['est'] = movies['id'].apply(lambda x: svd.predict(userId, indices_map.loc[x]['movieId']).est)\n",
    "    movies = movies.sort_values('est', ascending=False)\n",
    "    return movies.head(10)"
   ]
  },
  {
   "cell_type": "code",
   "execution_count": 103,
   "id": "64c3f3d0",
   "metadata": {},
   "outputs": [
    {
     "data": {
      "text/html": [
       "<div>\n",
       "<style scoped>\n",
       "    .dataframe tbody tr th:only-of-type {\n",
       "        vertical-align: middle;\n",
       "    }\n",
       "\n",
       "    .dataframe tbody tr th {\n",
       "        vertical-align: top;\n",
       "    }\n",
       "\n",
       "    .dataframe thead th {\n",
       "        text-align: right;\n",
       "    }\n",
       "</style>\n",
       "<table border=\"1\" class=\"dataframe\">\n",
       "  <thead>\n",
       "    <tr style=\"text-align: right;\">\n",
       "      <th></th>\n",
       "      <th>title</th>\n",
       "      <th>vote_count</th>\n",
       "      <th>vote_average</th>\n",
       "      <th>year</th>\n",
       "      <th>id</th>\n",
       "      <th>est</th>\n",
       "    </tr>\n",
       "  </thead>\n",
       "  <tbody>\n",
       "    <tr>\n",
       "      <th>974</th>\n",
       "      <td>Aliens</td>\n",
       "      <td>3282.0</td>\n",
       "      <td>7.7</td>\n",
       "      <td>1986</td>\n",
       "      <td>679</td>\n",
       "      <td>3.171721</td>\n",
       "    </tr>\n",
       "    <tr>\n",
       "      <th>522</th>\n",
       "      <td>Terminator 2: Judgment Day</td>\n",
       "      <td>4274.0</td>\n",
       "      <td>7.7</td>\n",
       "      <td>1991</td>\n",
       "      <td>280</td>\n",
       "      <td>3.056257</td>\n",
       "    </tr>\n",
       "    <tr>\n",
       "      <th>8401</th>\n",
       "      <td>Star Trek Into Darkness</td>\n",
       "      <td>4479.0</td>\n",
       "      <td>7.4</td>\n",
       "      <td>2013</td>\n",
       "      <td>54138</td>\n",
       "      <td>3.056091</td>\n",
       "    </tr>\n",
       "    <tr>\n",
       "      <th>1011</th>\n",
       "      <td>The Terminator</td>\n",
       "      <td>4208.0</td>\n",
       "      <td>7.4</td>\n",
       "      <td>1984</td>\n",
       "      <td>218</td>\n",
       "      <td>2.912433</td>\n",
       "    </tr>\n",
       "    <tr>\n",
       "      <th>8658</th>\n",
       "      <td>X-Men: Days of Future Past</td>\n",
       "      <td>6155.0</td>\n",
       "      <td>7.5</td>\n",
       "      <td>2014</td>\n",
       "      <td>127585</td>\n",
       "      <td>2.891771</td>\n",
       "    </tr>\n",
       "    <tr>\n",
       "      <th>2014</th>\n",
       "      <td>Fantastic Planet</td>\n",
       "      <td>140.0</td>\n",
       "      <td>7.6</td>\n",
       "      <td>1973</td>\n",
       "      <td>16306</td>\n",
       "      <td>2.726968</td>\n",
       "    </tr>\n",
       "    <tr>\n",
       "      <th>344</th>\n",
       "      <td>True Lies</td>\n",
       "      <td>1138.0</td>\n",
       "      <td>6.8</td>\n",
       "      <td>1994</td>\n",
       "      <td>36955</td>\n",
       "      <td>2.721795</td>\n",
       "    </tr>\n",
       "    <tr>\n",
       "      <th>2131</th>\n",
       "      <td>Superman</td>\n",
       "      <td>1042.0</td>\n",
       "      <td>6.9</td>\n",
       "      <td>1978</td>\n",
       "      <td>1924</td>\n",
       "      <td>2.647066</td>\n",
       "    </tr>\n",
       "    <tr>\n",
       "      <th>7265</th>\n",
       "      <td>Dragonball Evolution</td>\n",
       "      <td>475.0</td>\n",
       "      <td>2.9</td>\n",
       "      <td>2009</td>\n",
       "      <td>14164</td>\n",
       "      <td>2.639766</td>\n",
       "    </tr>\n",
       "    <tr>\n",
       "      <th>8724</th>\n",
       "      <td>Jupiter Ascending</td>\n",
       "      <td>2816.0</td>\n",
       "      <td>5.2</td>\n",
       "      <td>2015</td>\n",
       "      <td>76757</td>\n",
       "      <td>2.599843</td>\n",
       "    </tr>\n",
       "  </tbody>\n",
       "</table>\n",
       "</div>"
      ],
      "text/plain": [
       "                           title  vote_count  vote_average  year      id  \\\n",
       "974                       Aliens      3282.0           7.7  1986     679   \n",
       "522   Terminator 2: Judgment Day      4274.0           7.7  1991     280   \n",
       "8401     Star Trek Into Darkness      4479.0           7.4  2013   54138   \n",
       "1011              The Terminator      4208.0           7.4  1984     218   \n",
       "8658  X-Men: Days of Future Past      6155.0           7.5  2014  127585   \n",
       "2014            Fantastic Planet       140.0           7.6  1973   16306   \n",
       "344                    True Lies      1138.0           6.8  1994   36955   \n",
       "2131                    Superman      1042.0           6.9  1978    1924   \n",
       "7265        Dragonball Evolution       475.0           2.9  2009   14164   \n",
       "8724           Jupiter Ascending      2816.0           5.2  2015   76757   \n",
       "\n",
       "           est  \n",
       "974   3.171721  \n",
       "522   3.056257  \n",
       "8401  3.056091  \n",
       "1011  2.912433  \n",
       "8658  2.891771  \n",
       "2014  2.726968  \n",
       "344   2.721795  \n",
       "2131  2.647066  \n",
       "7265  2.639766  \n",
       "8724  2.599843  "
      ]
     },
     "execution_count": 103,
     "metadata": {},
     "output_type": "execute_result"
    }
   ],
   "source": [
    "hybrid(1, 'Avatar')"
   ]
  },
  {
   "cell_type": "code",
   "execution_count": 104,
   "id": "9e3b1c59",
   "metadata": {},
   "outputs": [
    {
     "data": {
      "text/plain": [
       "1300                                       Kiss Me, Guido\n",
       "5219                                               Martin\n",
       "4078                        National Lampoon’s Van Wilder\n",
       "8145                                 Your Sister's Sister\n",
       "3057                                             H.O.T.S.\n",
       "2457                                  A Face in the Crowd\n",
       "4723                                  Made for Each Other\n",
       "8360                                   The Act of Killing\n",
       "2681                    Ghost Dog: The Way of the Samurai\n",
       "4121                                 Butterflies Are Free\n",
       "4860                                      Babette's Feast\n",
       "8001                                     Batman: Year One\n",
       "588                                           The Promise\n",
       "30                                        Dangerous Minds\n",
       "6992                                         Nim's Island\n",
       "1778                                            Blackmail\n",
       "8917                                                Focus\n",
       "7287                            The Girlfriend Experience\n",
       "7487                                Make the Yuletide Gay\n",
       "8269                                                Vamps\n",
       "4292                                       White Oleander\n",
       "6914                                            Helvetica\n",
       "4857                              All the President's Men\n",
       "7331                                       Whatever Works\n",
       "3705                                      The Cotton Club\n",
       "389                                                  Dave\n",
       "6744    Aqua Teen Hunger Force Colon Movie Film for Th...\n",
       "7261                                   Observe and Report\n",
       "3282                                 Beverly Hills Cop II\n",
       "4571                                    Two-Lane Blacktop\n",
       "Name: title, dtype: object"
      ]
     },
     "execution_count": 104,
     "metadata": {},
     "output_type": "execute_result"
    }
   ],
   "source": [
    "get_recommendations_through_title('Avatar')"
   ]
  },
  {
   "cell_type": "code",
   "execution_count": 161,
   "id": "d9922b67",
   "metadata": {},
   "outputs": [
    {
     "data": {
      "text/plain": [
       "8873                            X-Men: Apocalypse\n",
       "3049                                        X-Men\n",
       "4635                                           X2\n",
       "8365                        Jack the Giant Slayer\n",
       "6521                             Superman Returns\n",
       "2298                                Public Access\n",
       "48                             The Usual Suspects\n",
       "1852                                    Apt Pupil\n",
       "7188                                     Valkyrie\n",
       "6493                        X-Men: The Last Stand\n",
       "8419                                 Man of Steel\n",
       "6084    Beastmaster 2: Through the Portal of Time\n",
       "7889                           X-Men: First Class\n",
       "8450                                The Wolverine\n",
       "3216                           Dungeons & Dragons\n",
       "2132                                  Superman II\n",
       "7265                         Dragonball Evolution\n",
       "8445       Justice League: The Flashpoint Paradox\n",
       "2133                                 Superman III\n",
       "2761             Teenage Mutant Ninja Turtles III\n",
       "2131                                     Superman\n",
       "3060              Sinbad and the Eye of the Tiger\n",
       "4966                         Hercules in New York\n",
       "5310                         Frank Herbert's Dune\n",
       "6236                               Fantastic Four\n",
       "1500                               Small Soldiers\n",
       "6576                                 The Covenant\n",
       "3181                             The Time Machine\n",
       "9004                                Suicide Squad\n",
       "7488                                       Avatar\n",
       "Name: title, dtype: object"
      ]
     },
     "execution_count": 161,
     "metadata": {},
     "output_type": "execute_result"
    }
   ],
   "source": [
    "get_recommendations_through_user_filtering('X-Men: Days of Future Past')"
   ]
  },
  {
   "cell_type": "code",
   "execution_count": null,
   "id": "630f01ae",
   "metadata": {},
   "outputs": [],
   "source": [
    "#now for a new user predicting....."
   ]
  },
  {
   "cell_type": "code",
   "execution_count": 114,
   "id": "5300ea41",
   "metadata": {},
   "outputs": [
    {
     "name": "stdout",
     "output_type": "stream",
     "text": [
      "   userId  movieId  rating   timestamp\n",
      "0       1       31     2.5  1260759144\n",
      "1       1     1029     3.0  1260759179\n",
      "2       1     1061     3.0  1260759182\n",
      "3       1     1129     2.0  1260759185\n",
      "4       1     1172     4.0  1260759205\n",
      "(100004, 4)\n"
     ]
    }
   ],
   "source": [
    "print(ratings.head())\n",
    "print(ratings.shape)"
   ]
  },
  {
   "cell_type": "code",
   "execution_count": 110,
   "id": "09521096",
   "metadata": {},
   "outputs": [
    {
     "data": {
      "text/plain": [
       "671"
      ]
     },
     "execution_count": 110,
     "metadata": {},
     "output_type": "execute_result"
    }
   ],
   "source": [
    "num_of_users_currently = ratings['userId'].max()\n",
    "num_of_users_currently"
   ]
  },
  {
   "cell_type": "code",
   "execution_count": 111,
   "id": "7737a56b",
   "metadata": {},
   "outputs": [
    {
     "name": "stdout",
     "output_type": "stream",
     "text": [
      "The total number of users currently are 671\n"
     ]
    }
   ],
   "source": [
    "print(f\"The total number of users currently are {num_of_users_currently}\")"
   ]
  },
  {
   "cell_type": "code",
   "execution_count": 132,
   "id": "0707fc58",
   "metadata": {},
   "outputs": [
    {
     "name": "stderr",
     "output_type": "stream",
     "text": [
      "/var/folders/f7/pwt8mqn53h7cm0yx8tw9dw6m0000gn/T/ipykernel_91357/682563283.py:2: FutureWarning: The frame.append method is deprecated and will be removed from pandas in a future version. Use pandas.concat instead.\n",
      "  ratings_new = ratings.append(new_row, ignore_index=True)\n"
     ]
    }
   ],
   "source": [
    "new_row = {'userId': num_of_users_currently+1 , 'movieId': 31 , 'rating' : 5.0 , 'timestamp' : 1260759144}\n",
    "ratings_new = ratings.append(new_row, ignore_index=True)"
   ]
  },
  {
   "cell_type": "code",
   "execution_count": 134,
   "id": "160b4b23",
   "metadata": {},
   "outputs": [
    {
     "name": "stdout",
     "output_type": "stream",
     "text": [
      "(100005, 4)\n",
      "(100004, 4)\n"
     ]
    }
   ],
   "source": [
    "print(ratings_new.shape)\n",
    "print(ratings.shape)"
   ]
  },
  {
   "cell_type": "code",
   "execution_count": 135,
   "id": "fa790fc9",
   "metadata": {},
   "outputs": [
    {
     "name": "stdout",
     "output_type": "stream",
     "text": [
      "        userId  movieId  rating     timestamp\n",
      "0          1.0     31.0     2.5  1.260759e+09\n",
      "1          1.0   1029.0     3.0  1.260759e+09\n",
      "2          1.0   1061.0     3.0  1.260759e+09\n",
      "3          1.0   1129.0     2.0  1.260759e+09\n",
      "4          1.0   1172.0     4.0  1.260759e+09\n",
      "...        ...      ...     ...           ...\n",
      "100000   671.0   6269.0     4.0  1.065149e+09\n",
      "100001   671.0   6365.0     4.0  1.070940e+09\n",
      "100002   671.0   6385.0     2.5  1.070980e+09\n",
      "100003   671.0   6565.0     3.5  1.074785e+09\n",
      "100004   672.0     31.0     5.0  1.260759e+09\n",
      "\n",
      "[100005 rows x 4 columns]\n"
     ]
    }
   ],
   "source": [
    "#First lets create a user which is similar to user 1 so that our recommendation system can give us the suggestion\n",
    "#respect to user 1\n",
    "print(ratings_new.head(100005))"
   ]
  },
  {
   "cell_type": "code",
   "execution_count": 150,
   "id": "8fd70105",
   "metadata": {},
   "outputs": [],
   "source": [
    "ratings_new=ratings"
   ]
  },
  {
   "cell_type": "code",
   "execution_count": 155,
   "id": "a80b5fb8",
   "metadata": {},
   "outputs": [
    {
     "name": "stderr",
     "output_type": "stream",
     "text": [
      "/var/folders/f7/pwt8mqn53h7cm0yx8tw9dw6m0000gn/T/ipykernel_91357/628361555.py:2: FutureWarning: The frame.append method is deprecated and will be removed from pandas in a future version. Use pandas.concat instead.\n",
      "  ratings_new = ratings_new.append(new_row, ignore_index=True)\n"
     ]
    }
   ],
   "source": [
    "new_row = {'userId': num_of_users_currently+1 , 'movieId': 1172 , 'rating' : 4.0 , 'timestamp' : 1260759144}\n",
    "ratings_new = ratings_new.append(new_row, ignore_index=True)"
   ]
  },
  {
   "cell_type": "code",
   "execution_count": 156,
   "id": "9a094269",
   "metadata": {},
   "outputs": [],
   "source": [
    "data_new = Dataset.load_from_df(ratings_new[['userId', 'movieId', 'rating']], reader)"
   ]
  },
  {
   "cell_type": "code",
   "execution_count": 157,
   "id": "92b94cba",
   "metadata": {},
   "outputs": [
    {
     "name": "stdout",
     "output_type": "stream",
     "text": [
      "Evaluating RMSE, MAE of algorithm SVD on 5 split(s).\n",
      "\n",
      "                  Fold 1  Fold 2  Fold 3  Fold 4  Fold 5  Mean    Std     \n",
      "RMSE (testset)    0.8949  0.8953  0.8879  0.8934  0.9037  0.8950  0.0050  \n",
      "MAE (testset)     0.6904  0.6887  0.6824  0.6896  0.6945  0.6891  0.0039  \n",
      "Fit time          0.53    0.52    0.58    0.53    0.48    0.53    0.03    \n",
      "Test time         0.08    0.07    0.08    0.08    0.07    0.08    0.00    \n"
     ]
    },
    {
     "data": {
      "text/plain": [
       "{'test_rmse': array([0.89494914, 0.89527377, 0.88794625, 0.89341431, 0.90365931]),\n",
       " 'test_mae': array([0.69041125, 0.68869556, 0.68235656, 0.68956497, 0.69450789]),\n",
       " 'fit_time': (0.5265719890594482,\n",
       "  0.5221202373504639,\n",
       "  0.5787692070007324,\n",
       "  0.5315988063812256,\n",
       "  0.4837188720703125),\n",
       " 'test_time': (0.07656407356262207,\n",
       "  0.07372426986694336,\n",
       "  0.0792398452758789,\n",
       "  0.07888507843017578,\n",
       "  0.07058906555175781)}"
      ]
     },
     "execution_count": 157,
     "metadata": {},
     "output_type": "execute_result"
    }
   ],
   "source": [
    "svd_new = SVD()\n",
    "cross_validate(svd_new, data_new, measures=['RMSE', 'MAE'], cv=5, verbose=True)"
   ]
  },
  {
   "cell_type": "code",
   "execution_count": 158,
   "id": "86738266",
   "metadata": {},
   "outputs": [
    {
     "data": {
      "text/html": [
       "<div>\n",
       "<style scoped>\n",
       "    .dataframe tbody tr th:only-of-type {\n",
       "        vertical-align: middle;\n",
       "    }\n",
       "\n",
       "    .dataframe tbody tr th {\n",
       "        vertical-align: top;\n",
       "    }\n",
       "\n",
       "    .dataframe thead th {\n",
       "        text-align: right;\n",
       "    }\n",
       "</style>\n",
       "<table border=\"1\" class=\"dataframe\">\n",
       "  <thead>\n",
       "    <tr style=\"text-align: right;\">\n",
       "      <th></th>\n",
       "      <th>userId</th>\n",
       "      <th>movieId</th>\n",
       "      <th>rating</th>\n",
       "      <th>timestamp</th>\n",
       "    </tr>\n",
       "  </thead>\n",
       "  <tbody>\n",
       "    <tr>\n",
       "      <th>0</th>\n",
       "      <td>1.0</td>\n",
       "      <td>31.0</td>\n",
       "      <td>2.5</td>\n",
       "      <td>1.260759e+09</td>\n",
       "    </tr>\n",
       "    <tr>\n",
       "      <th>1</th>\n",
       "      <td>1.0</td>\n",
       "      <td>1029.0</td>\n",
       "      <td>3.0</td>\n",
       "      <td>1.260759e+09</td>\n",
       "    </tr>\n",
       "    <tr>\n",
       "      <th>2</th>\n",
       "      <td>1.0</td>\n",
       "      <td>1061.0</td>\n",
       "      <td>3.0</td>\n",
       "      <td>1.260759e+09</td>\n",
       "    </tr>\n",
       "    <tr>\n",
       "      <th>3</th>\n",
       "      <td>1.0</td>\n",
       "      <td>1129.0</td>\n",
       "      <td>2.0</td>\n",
       "      <td>1.260759e+09</td>\n",
       "    </tr>\n",
       "    <tr>\n",
       "      <th>4</th>\n",
       "      <td>1.0</td>\n",
       "      <td>1172.0</td>\n",
       "      <td>4.0</td>\n",
       "      <td>1.260759e+09</td>\n",
       "    </tr>\n",
       "    <tr>\n",
       "      <th>5</th>\n",
       "      <td>1.0</td>\n",
       "      <td>1263.0</td>\n",
       "      <td>2.0</td>\n",
       "      <td>1.260759e+09</td>\n",
       "    </tr>\n",
       "    <tr>\n",
       "      <th>6</th>\n",
       "      <td>1.0</td>\n",
       "      <td>1287.0</td>\n",
       "      <td>2.0</td>\n",
       "      <td>1.260759e+09</td>\n",
       "    </tr>\n",
       "    <tr>\n",
       "      <th>7</th>\n",
       "      <td>1.0</td>\n",
       "      <td>1293.0</td>\n",
       "      <td>2.0</td>\n",
       "      <td>1.260759e+09</td>\n",
       "    </tr>\n",
       "    <tr>\n",
       "      <th>8</th>\n",
       "      <td>1.0</td>\n",
       "      <td>1339.0</td>\n",
       "      <td>3.5</td>\n",
       "      <td>1.260759e+09</td>\n",
       "    </tr>\n",
       "    <tr>\n",
       "      <th>9</th>\n",
       "      <td>1.0</td>\n",
       "      <td>1343.0</td>\n",
       "      <td>2.0</td>\n",
       "      <td>1.260759e+09</td>\n",
       "    </tr>\n",
       "    <tr>\n",
       "      <th>10</th>\n",
       "      <td>1.0</td>\n",
       "      <td>1371.0</td>\n",
       "      <td>2.5</td>\n",
       "      <td>1.260759e+09</td>\n",
       "    </tr>\n",
       "    <tr>\n",
       "      <th>11</th>\n",
       "      <td>1.0</td>\n",
       "      <td>1405.0</td>\n",
       "      <td>1.0</td>\n",
       "      <td>1.260759e+09</td>\n",
       "    </tr>\n",
       "    <tr>\n",
       "      <th>12</th>\n",
       "      <td>1.0</td>\n",
       "      <td>1953.0</td>\n",
       "      <td>4.0</td>\n",
       "      <td>1.260759e+09</td>\n",
       "    </tr>\n",
       "    <tr>\n",
       "      <th>13</th>\n",
       "      <td>1.0</td>\n",
       "      <td>2105.0</td>\n",
       "      <td>4.0</td>\n",
       "      <td>1.260759e+09</td>\n",
       "    </tr>\n",
       "    <tr>\n",
       "      <th>14</th>\n",
       "      <td>1.0</td>\n",
       "      <td>2150.0</td>\n",
       "      <td>3.0</td>\n",
       "      <td>1.260759e+09</td>\n",
       "    </tr>\n",
       "    <tr>\n",
       "      <th>15</th>\n",
       "      <td>1.0</td>\n",
       "      <td>2193.0</td>\n",
       "      <td>2.0</td>\n",
       "      <td>1.260759e+09</td>\n",
       "    </tr>\n",
       "    <tr>\n",
       "      <th>16</th>\n",
       "      <td>1.0</td>\n",
       "      <td>2294.0</td>\n",
       "      <td>2.0</td>\n",
       "      <td>1.260759e+09</td>\n",
       "    </tr>\n",
       "    <tr>\n",
       "      <th>17</th>\n",
       "      <td>1.0</td>\n",
       "      <td>2455.0</td>\n",
       "      <td>2.5</td>\n",
       "      <td>1.260759e+09</td>\n",
       "    </tr>\n",
       "    <tr>\n",
       "      <th>18</th>\n",
       "      <td>1.0</td>\n",
       "      <td>2968.0</td>\n",
       "      <td>1.0</td>\n",
       "      <td>1.260759e+09</td>\n",
       "    </tr>\n",
       "    <tr>\n",
       "      <th>19</th>\n",
       "      <td>1.0</td>\n",
       "      <td>3671.0</td>\n",
       "      <td>3.0</td>\n",
       "      <td>1.260759e+09</td>\n",
       "    </tr>\n",
       "  </tbody>\n",
       "</table>\n",
       "</div>"
      ],
      "text/plain": [
       "    userId  movieId  rating     timestamp\n",
       "0      1.0     31.0     2.5  1.260759e+09\n",
       "1      1.0   1029.0     3.0  1.260759e+09\n",
       "2      1.0   1061.0     3.0  1.260759e+09\n",
       "3      1.0   1129.0     2.0  1.260759e+09\n",
       "4      1.0   1172.0     4.0  1.260759e+09\n",
       "5      1.0   1263.0     2.0  1.260759e+09\n",
       "6      1.0   1287.0     2.0  1.260759e+09\n",
       "7      1.0   1293.0     2.0  1.260759e+09\n",
       "8      1.0   1339.0     3.5  1.260759e+09\n",
       "9      1.0   1343.0     2.0  1.260759e+09\n",
       "10     1.0   1371.0     2.5  1.260759e+09\n",
       "11     1.0   1405.0     1.0  1.260759e+09\n",
       "12     1.0   1953.0     4.0  1.260759e+09\n",
       "13     1.0   2105.0     4.0  1.260759e+09\n",
       "14     1.0   2150.0     3.0  1.260759e+09\n",
       "15     1.0   2193.0     2.0  1.260759e+09\n",
       "16     1.0   2294.0     2.0  1.260759e+09\n",
       "17     1.0   2455.0     2.5  1.260759e+09\n",
       "18     1.0   2968.0     1.0  1.260759e+09\n",
       "19     1.0   3671.0     3.0  1.260759e+09"
      ]
     },
     "execution_count": 158,
     "metadata": {},
     "output_type": "execute_result"
    }
   ],
   "source": [
    "ratings[ratings['userId'] == 1]"
   ]
  },
  {
   "cell_type": "code",
   "execution_count": 159,
   "id": "71316a31",
   "metadata": {},
   "outputs": [
    {
     "data": {
      "text/html": [
       "<div>\n",
       "<style scoped>\n",
       "    .dataframe tbody tr th:only-of-type {\n",
       "        vertical-align: middle;\n",
       "    }\n",
       "\n",
       "    .dataframe tbody tr th {\n",
       "        vertical-align: top;\n",
       "    }\n",
       "\n",
       "    .dataframe thead th {\n",
       "        text-align: right;\n",
       "    }\n",
       "</style>\n",
       "<table border=\"1\" class=\"dataframe\">\n",
       "  <thead>\n",
       "    <tr style=\"text-align: right;\">\n",
       "      <th></th>\n",
       "      <th>userId</th>\n",
       "      <th>movieId</th>\n",
       "      <th>rating</th>\n",
       "      <th>timestamp</th>\n",
       "    </tr>\n",
       "  </thead>\n",
       "  <tbody>\n",
       "    <tr>\n",
       "      <th>100004</th>\n",
       "      <td>672.0</td>\n",
       "      <td>31.0</td>\n",
       "      <td>2.0</td>\n",
       "      <td>1.260759e+09</td>\n",
       "    </tr>\n",
       "    <tr>\n",
       "      <th>100005</th>\n",
       "      <td>672.0</td>\n",
       "      <td>1029.0</td>\n",
       "      <td>3.0</td>\n",
       "      <td>1.260759e+09</td>\n",
       "    </tr>\n",
       "    <tr>\n",
       "      <th>100006</th>\n",
       "      <td>672.0</td>\n",
       "      <td>1061.0</td>\n",
       "      <td>3.5</td>\n",
       "      <td>1.260759e+09</td>\n",
       "    </tr>\n",
       "    <tr>\n",
       "      <th>100007</th>\n",
       "      <td>672.0</td>\n",
       "      <td>1129.0</td>\n",
       "      <td>1.5</td>\n",
       "      <td>1.260759e+09</td>\n",
       "    </tr>\n",
       "    <tr>\n",
       "      <th>100008</th>\n",
       "      <td>672.0</td>\n",
       "      <td>1172.0</td>\n",
       "      <td>4.0</td>\n",
       "      <td>1.260759e+09</td>\n",
       "    </tr>\n",
       "  </tbody>\n",
       "</table>\n",
       "</div>"
      ],
      "text/plain": [
       "        userId  movieId  rating     timestamp\n",
       "100004   672.0     31.0     2.0  1.260759e+09\n",
       "100005   672.0   1029.0     3.0  1.260759e+09\n",
       "100006   672.0   1061.0     3.5  1.260759e+09\n",
       "100007   672.0   1129.0     1.5  1.260759e+09\n",
       "100008   672.0   1172.0     4.0  1.260759e+09"
      ]
     },
     "execution_count": 159,
     "metadata": {},
     "output_type": "execute_result"
    }
   ],
   "source": [
    "ratings_new[ratings_new['userId'] == 672]"
   ]
  },
  {
   "cell_type": "code",
   "execution_count": 163,
   "id": "4daa198e",
   "metadata": {},
   "outputs": [
    {
     "data": {
      "text/plain": [
       "Prediction(uid=672, iid=24455, r_ui=None, est=3.254107525795724, details={'was_impossible': False})"
      ]
     },
     "execution_count": 163,
     "metadata": {},
     "output_type": "execute_result"
    }
   ],
   "source": [
    "svd_new.predict(672, 24455)"
   ]
  },
  {
   "cell_type": "code",
   "execution_count": 167,
   "id": "bf9323a8",
   "metadata": {},
   "outputs": [
    {
     "name": "stdout",
     "output_type": "stream",
     "text": [
      "0                                               Toy Story\n",
      "1                                                 Jumanji\n",
      "2                                        Grumpier Old Men\n",
      "3                                       Waiting to Exhale\n",
      "4                             Father of the Bride Part II\n",
      "                              ...                        \n",
      "9094                                        Shin Godzilla\n",
      "9095    The Beatles: Eight Days a Week - The Touring Y...\n",
      "9096                        Pokémon: Spell of the Unknown\n",
      "9097          Pokémon 4Ever: Celebi - Voice of the Forest\n",
      "9098                                        Force Majeure\n",
      "Name: title, Length: 9099, dtype: object\n"
     ]
    }
   ],
   "source": [
    "print(semi_movie_data['title'])"
   ]
  },
  {
   "cell_type": "code",
   "execution_count": null,
   "id": "2097184e",
   "metadata": {},
   "outputs": [],
   "source": []
  }
 ],
 "metadata": {
  "kernelspec": {
   "display_name": "Python 3 (ipykernel)",
   "language": "python",
   "name": "python3"
  },
  "language_info": {
   "codemirror_mode": {
    "name": "ipython",
    "version": 3
   },
   "file_extension": ".py",
   "mimetype": "text/x-python",
   "name": "python",
   "nbconvert_exporter": "python",
   "pygments_lexer": "ipython3",
   "version": "3.10.10"
  }
 },
 "nbformat": 4,
 "nbformat_minor": 5
}
